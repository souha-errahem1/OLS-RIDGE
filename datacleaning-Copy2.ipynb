{
 "cells": [
  {
   "cell_type": "code",
   "execution_count": 10,
   "id": "f699aa00-73f1-4abd-86c3-c07e8cd0a43c",
   "metadata": {},
   "outputs": [
    {
     "data": {
      "text/plain": [
       "'C:\\\\Users\\\\SOUHA'"
      ]
     },
     "execution_count": 10,
     "metadata": {},
     "output_type": "execute_result"
    }
   ],
   "source": [
    "pwd\n"
   ]
  },
  {
   "cell_type": "code",
   "execution_count": 11,
   "id": "740d450f-616b-4d06-8326-27d6bc08abfc",
   "metadata": {},
   "outputs": [],
   "source": [
    "import numpy as np\n",
    "import pandas as pd \n",
    "import seaborn as sns \n",
    "import statsmodels.api as sn"
   ]
  },
  {
   "cell_type": "code",
   "execution_count": 12,
   "id": "5120c913-336e-48d9-8e29-8a8ad8803086",
   "metadata": {},
   "outputs": [],
   "source": [
    "import firebase_admin\n",
    "from firebase_admin import credentials, db\n",
    "import pandas as pd\n",
    "\n",
    "\n"
   ]
  },
  {
   "cell_type": "code",
   "execution_count": 13,
   "id": "abe6dc67-faa0-4b05-968b-17052decdfd3",
   "metadata": {},
   "outputs": [],
   "source": [
    "# Initialiser l'application Firebase\n",
    "cred = credentials.Certificate('D:\\\\souha\\\\credentials.json')\n",
    "firebase_admin.initialize_app(cred, {\n",
    "    'databaseURL': 'https://nosqlpython-default-rtdb.firebaseio.com/'\n",
    "})\n",
    "\n",
    "# Référence à la base de données\n",
    "ref = db.reference('path/to/your/data')\n",
    "\n",
    "# Lire les données\n",
    "data = ref.get()\n",
    "\n",
    "# Convertir les données en DataFrame pandas\n",
    "df = pd.DataFrame(data)"
   ]
  },
  {
   "cell_type": "code",
   "execution_count": 14,
   "id": "5711fdc1-9b1b-48e8-b6c2-92a57b52f252",
   "metadata": {},
   "outputs": [],
   "source": [
    "\n",
    "from sklearn.linear_model import LinearRegression\n",
    "from sklearn.model_selection import train_test_split"
   ]
  },
  {
   "cell_type": "code",
   "execution_count": 106,
   "id": "198514f4-b61d-42ab-9109-5dbd59316332",
   "metadata": {},
   "outputs": [],
   "source": [
    "df = pd.read_csv('D:\\\\souha\\\\modelhumidité (1).csv', encoding='latin1')"
   ]
  },
  {
   "cell_type": "code",
   "execution_count": 16,
   "id": "ae9ee467-f8d6-474e-a2b2-b846f845fb92",
   "metadata": {},
   "outputs": [
    {
     "name": "stdout",
     "output_type": "stream",
     "text": [
      "Time (hours)                 float64\n",
      "Humidity Level 1 (%)         float64\n",
      "Humidity Level 2 (%)         float64\n",
      "Humidity Level 3 (%)         float64\n",
      "Temperature Level 1 (Â°C)    float64\n",
      "Temperature Level 2 (Â°C)    float64\n",
      "Temperature Level 3 (Â°C)    float64\n",
      "Water Quantity (L)           float64\n",
      "dtype: object\n"
     ]
    }
   ],
   "source": [
    "print(df.dtypes)"
   ]
  },
  {
   "cell_type": "code",
   "execution_count": 17,
   "id": "fea176fa-a1b1-4a04-b69f-0219b3289c31",
   "metadata": {},
   "outputs": [
    {
     "data": {
      "text/html": [
       "<div>\n",
       "<style scoped>\n",
       "    .dataframe tbody tr th:only-of-type {\n",
       "        vertical-align: middle;\n",
       "    }\n",
       "\n",
       "    .dataframe tbody tr th {\n",
       "        vertical-align: top;\n",
       "    }\n",
       "\n",
       "    .dataframe thead th {\n",
       "        text-align: right;\n",
       "    }\n",
       "</style>\n",
       "<table border=\"1\" class=\"dataframe\">\n",
       "  <thead>\n",
       "    <tr style=\"text-align: right;\">\n",
       "      <th></th>\n",
       "      <th>Time (hours)</th>\n",
       "      <th>Humidity Level 1 (%)</th>\n",
       "      <th>Humidity Level 2 (%)</th>\n",
       "      <th>Humidity Level 3 (%)</th>\n",
       "      <th>Temperature Level 1 (Â°C)</th>\n",
       "      <th>Temperature Level 2 (Â°C)</th>\n",
       "      <th>Temperature Level 3 (Â°C)</th>\n",
       "      <th>Water Quantity (L)</th>\n",
       "    </tr>\n",
       "  </thead>\n",
       "  <tbody>\n",
       "    <tr>\n",
       "      <th>0</th>\n",
       "      <td>0.0</td>\n",
       "      <td>80.0</td>\n",
       "      <td>30.0</td>\n",
       "      <td>20.0</td>\n",
       "      <td>25.0</td>\n",
       "      <td>24.0</td>\n",
       "      <td>23.0</td>\n",
       "      <td>40.0</td>\n",
       "    </tr>\n",
       "    <tr>\n",
       "      <th>1</th>\n",
       "      <td>12.0</td>\n",
       "      <td>70.0</td>\n",
       "      <td>40.0</td>\n",
       "      <td>30.0</td>\n",
       "      <td>28.0</td>\n",
       "      <td>27.0</td>\n",
       "      <td>26.0</td>\n",
       "      <td>40.0</td>\n",
       "    </tr>\n",
       "    <tr>\n",
       "      <th>2</th>\n",
       "      <td>24.0</td>\n",
       "      <td>60.0</td>\n",
       "      <td>50.0</td>\n",
       "      <td>40.0</td>\n",
       "      <td>30.0</td>\n",
       "      <td>29.0</td>\n",
       "      <td>28.0</td>\n",
       "      <td>40.0</td>\n",
       "    </tr>\n",
       "    <tr>\n",
       "      <th>3</th>\n",
       "      <td>36.0</td>\n",
       "      <td>50.0</td>\n",
       "      <td>55.0</td>\n",
       "      <td>45.0</td>\n",
       "      <td>27.0</td>\n",
       "      <td>26.0</td>\n",
       "      <td>25.0</td>\n",
       "      <td>40.0</td>\n",
       "    </tr>\n",
       "    <tr>\n",
       "      <th>4</th>\n",
       "      <td>48.0</td>\n",
       "      <td>40.0</td>\n",
       "      <td>60.0</td>\n",
       "      <td>50.0</td>\n",
       "      <td>20.0</td>\n",
       "      <td>21.0</td>\n",
       "      <td>22.0</td>\n",
       "      <td>40.0</td>\n",
       "    </tr>\n",
       "    <tr>\n",
       "      <th>5</th>\n",
       "      <td>NaN</td>\n",
       "      <td>NaN</td>\n",
       "      <td>NaN</td>\n",
       "      <td>NaN</td>\n",
       "      <td>NaN</td>\n",
       "      <td>NaN</td>\n",
       "      <td>NaN</td>\n",
       "      <td>NaN</td>\n",
       "    </tr>\n",
       "    <tr>\n",
       "      <th>6</th>\n",
       "      <td>0.0</td>\n",
       "      <td>80.0</td>\n",
       "      <td>30.0</td>\n",
       "      <td>20.0</td>\n",
       "      <td>25.0</td>\n",
       "      <td>24.0</td>\n",
       "      <td>23.0</td>\n",
       "      <td>40.0</td>\n",
       "    </tr>\n",
       "    <tr>\n",
       "      <th>7</th>\n",
       "      <td>12.0</td>\n",
       "      <td>70.0</td>\n",
       "      <td>40.0</td>\n",
       "      <td>30.0</td>\n",
       "      <td>28.0</td>\n",
       "      <td>27.0</td>\n",
       "      <td>26.0</td>\n",
       "      <td>40.0</td>\n",
       "    </tr>\n",
       "    <tr>\n",
       "      <th>8</th>\n",
       "      <td>24.0</td>\n",
       "      <td>60.0</td>\n",
       "      <td>50.0</td>\n",
       "      <td>40.0</td>\n",
       "      <td>30.0</td>\n",
       "      <td>29.0</td>\n",
       "      <td>28.0</td>\n",
       "      <td>40.0</td>\n",
       "    </tr>\n",
       "    <tr>\n",
       "      <th>9</th>\n",
       "      <td>36.0</td>\n",
       "      <td>50.0</td>\n",
       "      <td>55.0</td>\n",
       "      <td>45.0</td>\n",
       "      <td>27.0</td>\n",
       "      <td>26.0</td>\n",
       "      <td>25.0</td>\n",
       "      <td>40.0</td>\n",
       "    </tr>\n",
       "    <tr>\n",
       "      <th>10</th>\n",
       "      <td>48.0</td>\n",
       "      <td>40.0</td>\n",
       "      <td>60.0</td>\n",
       "      <td>50.0</td>\n",
       "      <td>20.0</td>\n",
       "      <td>21.0</td>\n",
       "      <td>22.0</td>\n",
       "      <td>40.0</td>\n",
       "    </tr>\n",
       "    <tr>\n",
       "      <th>11</th>\n",
       "      <td>NaN</td>\n",
       "      <td>NaN</td>\n",
       "      <td>NaN</td>\n",
       "      <td>NaN</td>\n",
       "      <td>NaN</td>\n",
       "      <td>NaN</td>\n",
       "      <td>NaN</td>\n",
       "      <td>NaN</td>\n",
       "    </tr>\n",
       "    <tr>\n",
       "      <th>12</th>\n",
       "      <td>0.0</td>\n",
       "      <td>80.0</td>\n",
       "      <td>30.0</td>\n",
       "      <td>20.0</td>\n",
       "      <td>10.0</td>\n",
       "      <td>9.0</td>\n",
       "      <td>8.0</td>\n",
       "      <td>30.0</td>\n",
       "    </tr>\n",
       "    <tr>\n",
       "      <th>13</th>\n",
       "      <td>24.0</td>\n",
       "      <td>70.0</td>\n",
       "      <td>40.0</td>\n",
       "      <td>30.0</td>\n",
       "      <td>12.0</td>\n",
       "      <td>11.0</td>\n",
       "      <td>10.0</td>\n",
       "      <td>30.0</td>\n",
       "    </tr>\n",
       "    <tr>\n",
       "      <th>14</th>\n",
       "      <td>48.0</td>\n",
       "      <td>60.0</td>\n",
       "      <td>50.0</td>\n",
       "      <td>40.0</td>\n",
       "      <td>14.0</td>\n",
       "      <td>13.0</td>\n",
       "      <td>12.0</td>\n",
       "      <td>30.0</td>\n",
       "    </tr>\n",
       "    <tr>\n",
       "      <th>15</th>\n",
       "      <td>72.0</td>\n",
       "      <td>50.0</td>\n",
       "      <td>55.0</td>\n",
       "      <td>45.0</td>\n",
       "      <td>13.0</td>\n",
       "      <td>12.0</td>\n",
       "      <td>11.0</td>\n",
       "      <td>30.0</td>\n",
       "    </tr>\n",
       "    <tr>\n",
       "      <th>16</th>\n",
       "      <td>96.0</td>\n",
       "      <td>40.0</td>\n",
       "      <td>60.0</td>\n",
       "      <td>50.0</td>\n",
       "      <td>12.0</td>\n",
       "      <td>11.0</td>\n",
       "      <td>10.0</td>\n",
       "      <td>30.0</td>\n",
       "    </tr>\n",
       "  </tbody>\n",
       "</table>\n",
       "</div>"
      ],
      "text/plain": [
       "    Time (hours)  Humidity Level 1 (%)  Humidity Level 2 (%)  \\\n",
       "0            0.0                  80.0                  30.0   \n",
       "1           12.0                  70.0                  40.0   \n",
       "2           24.0                  60.0                  50.0   \n",
       "3           36.0                  50.0                  55.0   \n",
       "4           48.0                  40.0                  60.0   \n",
       "5            NaN                   NaN                   NaN   \n",
       "6            0.0                  80.0                  30.0   \n",
       "7           12.0                  70.0                  40.0   \n",
       "8           24.0                  60.0                  50.0   \n",
       "9           36.0                  50.0                  55.0   \n",
       "10          48.0                  40.0                  60.0   \n",
       "11           NaN                   NaN                   NaN   \n",
       "12           0.0                  80.0                  30.0   \n",
       "13          24.0                  70.0                  40.0   \n",
       "14          48.0                  60.0                  50.0   \n",
       "15          72.0                  50.0                  55.0   \n",
       "16          96.0                  40.0                  60.0   \n",
       "\n",
       "    Humidity Level 3 (%)  Temperature Level 1 (Â°C)  \\\n",
       "0                   20.0                       25.0   \n",
       "1                   30.0                       28.0   \n",
       "2                   40.0                       30.0   \n",
       "3                   45.0                       27.0   \n",
       "4                   50.0                       20.0   \n",
       "5                    NaN                        NaN   \n",
       "6                   20.0                       25.0   \n",
       "7                   30.0                       28.0   \n",
       "8                   40.0                       30.0   \n",
       "9                   45.0                       27.0   \n",
       "10                  50.0                       20.0   \n",
       "11                   NaN                        NaN   \n",
       "12                  20.0                       10.0   \n",
       "13                  30.0                       12.0   \n",
       "14                  40.0                       14.0   \n",
       "15                  45.0                       13.0   \n",
       "16                  50.0                       12.0   \n",
       "\n",
       "    Temperature Level 2 (Â°C)  Temperature Level 3 (Â°C)  Water Quantity (L)  \n",
       "0                        24.0                       23.0                40.0  \n",
       "1                        27.0                       26.0                40.0  \n",
       "2                        29.0                       28.0                40.0  \n",
       "3                        26.0                       25.0                40.0  \n",
       "4                        21.0                       22.0                40.0  \n",
       "5                         NaN                        NaN                 NaN  \n",
       "6                        24.0                       23.0                40.0  \n",
       "7                        27.0                       26.0                40.0  \n",
       "8                        29.0                       28.0                40.0  \n",
       "9                        26.0                       25.0                40.0  \n",
       "10                       21.0                       22.0                40.0  \n",
       "11                        NaN                        NaN                 NaN  \n",
       "12                        9.0                        8.0                30.0  \n",
       "13                       11.0                       10.0                30.0  \n",
       "14                       13.0                       12.0                30.0  \n",
       "15                       12.0                       11.0                30.0  \n",
       "16                       11.0                       10.0                30.0  "
      ]
     },
     "execution_count": 17,
     "metadata": {},
     "output_type": "execute_result"
    }
   ],
   "source": [
    "df"
   ]
  },
  {
   "cell_type": "code",
   "execution_count": 18,
   "id": "ec785022-e89e-4bf6-bcf7-6d5e074ad062",
   "metadata": {},
   "outputs": [
    {
     "data": {
      "text/plain": [
       "(17, 8)"
      ]
     },
     "execution_count": 18,
     "metadata": {},
     "output_type": "execute_result"
    }
   ],
   "source": [
    "df.shape"
   ]
  },
  {
   "cell_type": "code",
   "execution_count": 19,
   "id": "f58aff4c-4ed1-49fb-a25c-1c58c2e33125",
   "metadata": {},
   "outputs": [
    {
     "data": {
      "text/html": [
       "<div>\n",
       "<style scoped>\n",
       "    .dataframe tbody tr th:only-of-type {\n",
       "        vertical-align: middle;\n",
       "    }\n",
       "\n",
       "    .dataframe tbody tr th {\n",
       "        vertical-align: top;\n",
       "    }\n",
       "\n",
       "    .dataframe thead th {\n",
       "        text-align: right;\n",
       "    }\n",
       "</style>\n",
       "<table border=\"1\" class=\"dataframe\">\n",
       "  <thead>\n",
       "    <tr style=\"text-align: right;\">\n",
       "      <th></th>\n",
       "      <th>Time (hours)</th>\n",
       "      <th>Humidity Level 1 (%)</th>\n",
       "      <th>Humidity Level 2 (%)</th>\n",
       "      <th>Humidity Level 3 (%)</th>\n",
       "      <th>Temperature Level 1 (Â°C)</th>\n",
       "      <th>Temperature Level 2 (Â°C)</th>\n",
       "      <th>Temperature Level 3 (Â°C)</th>\n",
       "      <th>Water Quantity (L)</th>\n",
       "    </tr>\n",
       "  </thead>\n",
       "  <tbody>\n",
       "    <tr>\n",
       "      <th>count</th>\n",
       "      <td>15.000000</td>\n",
       "      <td>15.000000</td>\n",
       "      <td>15.00000</td>\n",
       "      <td>15.00000</td>\n",
       "      <td>15.000000</td>\n",
       "      <td>15.000000</td>\n",
       "      <td>15.000000</td>\n",
       "      <td>15.000000</td>\n",
       "    </tr>\n",
       "    <tr>\n",
       "      <th>mean</th>\n",
       "      <td>32.000000</td>\n",
       "      <td>60.000000</td>\n",
       "      <td>47.00000</td>\n",
       "      <td>37.00000</td>\n",
       "      <td>21.400000</td>\n",
       "      <td>20.666667</td>\n",
       "      <td>19.933333</td>\n",
       "      <td>36.666667</td>\n",
       "    </tr>\n",
       "    <tr>\n",
       "      <th>std</th>\n",
       "      <td>27.464262</td>\n",
       "      <td>14.638501</td>\n",
       "      <td>11.14835</td>\n",
       "      <td>11.14835</td>\n",
       "      <td>7.365945</td>\n",
       "      <td>7.345228</td>\n",
       "      <td>7.391759</td>\n",
       "      <td>4.879500</td>\n",
       "    </tr>\n",
       "    <tr>\n",
       "      <th>min</th>\n",
       "      <td>0.000000</td>\n",
       "      <td>40.000000</td>\n",
       "      <td>30.00000</td>\n",
       "      <td>20.00000</td>\n",
       "      <td>10.000000</td>\n",
       "      <td>9.000000</td>\n",
       "      <td>8.000000</td>\n",
       "      <td>30.000000</td>\n",
       "    </tr>\n",
       "    <tr>\n",
       "      <th>25%</th>\n",
       "      <td>12.000000</td>\n",
       "      <td>50.000000</td>\n",
       "      <td>40.00000</td>\n",
       "      <td>30.00000</td>\n",
       "      <td>13.500000</td>\n",
       "      <td>12.500000</td>\n",
       "      <td>11.500000</td>\n",
       "      <td>30.000000</td>\n",
       "    </tr>\n",
       "    <tr>\n",
       "      <th>50%</th>\n",
       "      <td>24.000000</td>\n",
       "      <td>60.000000</td>\n",
       "      <td>50.00000</td>\n",
       "      <td>40.00000</td>\n",
       "      <td>25.000000</td>\n",
       "      <td>24.000000</td>\n",
       "      <td>23.000000</td>\n",
       "      <td>40.000000</td>\n",
       "    </tr>\n",
       "    <tr>\n",
       "      <th>75%</th>\n",
       "      <td>48.000000</td>\n",
       "      <td>70.000000</td>\n",
       "      <td>55.00000</td>\n",
       "      <td>45.00000</td>\n",
       "      <td>27.500000</td>\n",
       "      <td>26.500000</td>\n",
       "      <td>25.500000</td>\n",
       "      <td>40.000000</td>\n",
       "    </tr>\n",
       "    <tr>\n",
       "      <th>max</th>\n",
       "      <td>96.000000</td>\n",
       "      <td>80.000000</td>\n",
       "      <td>60.00000</td>\n",
       "      <td>50.00000</td>\n",
       "      <td>30.000000</td>\n",
       "      <td>29.000000</td>\n",
       "      <td>28.000000</td>\n",
       "      <td>40.000000</td>\n",
       "    </tr>\n",
       "  </tbody>\n",
       "</table>\n",
       "</div>"
      ],
      "text/plain": [
       "       Time (hours)  Humidity Level 1 (%)  Humidity Level 2 (%)  \\\n",
       "count     15.000000             15.000000              15.00000   \n",
       "mean      32.000000             60.000000              47.00000   \n",
       "std       27.464262             14.638501              11.14835   \n",
       "min        0.000000             40.000000              30.00000   \n",
       "25%       12.000000             50.000000              40.00000   \n",
       "50%       24.000000             60.000000              50.00000   \n",
       "75%       48.000000             70.000000              55.00000   \n",
       "max       96.000000             80.000000              60.00000   \n",
       "\n",
       "       Humidity Level 3 (%)  Temperature Level 1 (Â°C)  \\\n",
       "count              15.00000                  15.000000   \n",
       "mean               37.00000                  21.400000   \n",
       "std                11.14835                   7.365945   \n",
       "min                20.00000                  10.000000   \n",
       "25%                30.00000                  13.500000   \n",
       "50%                40.00000                  25.000000   \n",
       "75%                45.00000                  27.500000   \n",
       "max                50.00000                  30.000000   \n",
       "\n",
       "       Temperature Level 2 (Â°C)  Temperature Level 3 (Â°C)  \\\n",
       "count                  15.000000                  15.000000   \n",
       "mean                   20.666667                  19.933333   \n",
       "std                     7.345228                   7.391759   \n",
       "min                     9.000000                   8.000000   \n",
       "25%                    12.500000                  11.500000   \n",
       "50%                    24.000000                  23.000000   \n",
       "75%                    26.500000                  25.500000   \n",
       "max                    29.000000                  28.000000   \n",
       "\n",
       "       Water Quantity (L)  \n",
       "count           15.000000  \n",
       "mean            36.666667  \n",
       "std              4.879500  \n",
       "min             30.000000  \n",
       "25%             30.000000  \n",
       "50%             40.000000  \n",
       "75%             40.000000  \n",
       "max             40.000000  "
      ]
     },
     "execution_count": 19,
     "metadata": {},
     "output_type": "execute_result"
    }
   ],
   "source": [
    "df.describe()"
   ]
  },
  {
   "cell_type": "code",
   "execution_count": 20,
   "id": "82191730-ecbe-4bbd-9b3e-54550ae8091f",
   "metadata": {},
   "outputs": [
    {
     "name": "stdout",
     "output_type": "stream",
     "text": [
      "<class 'pandas.core.frame.DataFrame'>\n",
      "RangeIndex: 17 entries, 0 to 16\n",
      "Data columns (total 8 columns):\n",
      " #   Column                     Non-Null Count  Dtype  \n",
      "---  ------                     --------------  -----  \n",
      " 0   Time (hours)               15 non-null     float64\n",
      " 1   Humidity Level 1 (%)       15 non-null     float64\n",
      " 2   Humidity Level 2 (%)       15 non-null     float64\n",
      " 3   Humidity Level 3 (%)       15 non-null     float64\n",
      " 4   Temperature Level 1 (Â°C)  15 non-null     float64\n",
      " 5   Temperature Level 2 (Â°C)  15 non-null     float64\n",
      " 6   Temperature Level 3 (Â°C)  15 non-null     float64\n",
      " 7   Water Quantity (L)         15 non-null     float64\n",
      "dtypes: float64(8)\n",
      "memory usage: 1.2 KB\n"
     ]
    }
   ],
   "source": [
    "df.info()\n"
   ]
  },
  {
   "cell_type": "code",
   "execution_count": 21,
   "id": "453c3cc9-9e25-4c19-9980-39456e7d4baa",
   "metadata": {},
   "outputs": [],
   "source": [
    "num=df.select_dtypes(include =['int64','float64']).columns\n",
    "cat=df.select_dtypes(include ='object').columns"
   ]
  },
  {
   "cell_type": "code",
   "execution_count": 22,
   "id": "16d4f6ab-078a-4aba-8505-94c3cbe08b98",
   "metadata": {},
   "outputs": [
    {
     "data": {
      "text/html": [
       "<div>\n",
       "<style scoped>\n",
       "    .dataframe tbody tr th:only-of-type {\n",
       "        vertical-align: middle;\n",
       "    }\n",
       "\n",
       "    .dataframe tbody tr th {\n",
       "        vertical-align: top;\n",
       "    }\n",
       "\n",
       "    .dataframe thead th {\n",
       "        text-align: right;\n",
       "    }\n",
       "</style>\n",
       "<table border=\"1\" class=\"dataframe\">\n",
       "  <thead>\n",
       "    <tr style=\"text-align: right;\">\n",
       "      <th></th>\n",
       "      <th>Time (hours)</th>\n",
       "      <th>Humidity Level 1 (%)</th>\n",
       "      <th>Humidity Level 2 (%)</th>\n",
       "      <th>Humidity Level 3 (%)</th>\n",
       "      <th>Temperature Level 1 (Â°C)</th>\n",
       "      <th>Temperature Level 2 (Â°C)</th>\n",
       "      <th>Temperature Level 3 (Â°C)</th>\n",
       "      <th>Water Quantity (L)</th>\n",
       "    </tr>\n",
       "  </thead>\n",
       "  <tbody>\n",
       "    <tr>\n",
       "      <th>0</th>\n",
       "      <td>False</td>\n",
       "      <td>False</td>\n",
       "      <td>False</td>\n",
       "      <td>False</td>\n",
       "      <td>False</td>\n",
       "      <td>False</td>\n",
       "      <td>False</td>\n",
       "      <td>False</td>\n",
       "    </tr>\n",
       "    <tr>\n",
       "      <th>1</th>\n",
       "      <td>False</td>\n",
       "      <td>False</td>\n",
       "      <td>False</td>\n",
       "      <td>False</td>\n",
       "      <td>False</td>\n",
       "      <td>False</td>\n",
       "      <td>False</td>\n",
       "      <td>False</td>\n",
       "    </tr>\n",
       "    <tr>\n",
       "      <th>2</th>\n",
       "      <td>False</td>\n",
       "      <td>False</td>\n",
       "      <td>False</td>\n",
       "      <td>False</td>\n",
       "      <td>False</td>\n",
       "      <td>False</td>\n",
       "      <td>False</td>\n",
       "      <td>False</td>\n",
       "    </tr>\n",
       "    <tr>\n",
       "      <th>3</th>\n",
       "      <td>False</td>\n",
       "      <td>False</td>\n",
       "      <td>False</td>\n",
       "      <td>False</td>\n",
       "      <td>False</td>\n",
       "      <td>False</td>\n",
       "      <td>False</td>\n",
       "      <td>False</td>\n",
       "    </tr>\n",
       "    <tr>\n",
       "      <th>4</th>\n",
       "      <td>False</td>\n",
       "      <td>False</td>\n",
       "      <td>False</td>\n",
       "      <td>False</td>\n",
       "      <td>False</td>\n",
       "      <td>False</td>\n",
       "      <td>False</td>\n",
       "      <td>False</td>\n",
       "    </tr>\n",
       "    <tr>\n",
       "      <th>5</th>\n",
       "      <td>True</td>\n",
       "      <td>True</td>\n",
       "      <td>True</td>\n",
       "      <td>True</td>\n",
       "      <td>True</td>\n",
       "      <td>True</td>\n",
       "      <td>True</td>\n",
       "      <td>True</td>\n",
       "    </tr>\n",
       "    <tr>\n",
       "      <th>6</th>\n",
       "      <td>False</td>\n",
       "      <td>False</td>\n",
       "      <td>False</td>\n",
       "      <td>False</td>\n",
       "      <td>False</td>\n",
       "      <td>False</td>\n",
       "      <td>False</td>\n",
       "      <td>False</td>\n",
       "    </tr>\n",
       "    <tr>\n",
       "      <th>7</th>\n",
       "      <td>False</td>\n",
       "      <td>False</td>\n",
       "      <td>False</td>\n",
       "      <td>False</td>\n",
       "      <td>False</td>\n",
       "      <td>False</td>\n",
       "      <td>False</td>\n",
       "      <td>False</td>\n",
       "    </tr>\n",
       "    <tr>\n",
       "      <th>8</th>\n",
       "      <td>False</td>\n",
       "      <td>False</td>\n",
       "      <td>False</td>\n",
       "      <td>False</td>\n",
       "      <td>False</td>\n",
       "      <td>False</td>\n",
       "      <td>False</td>\n",
       "      <td>False</td>\n",
       "    </tr>\n",
       "    <tr>\n",
       "      <th>9</th>\n",
       "      <td>False</td>\n",
       "      <td>False</td>\n",
       "      <td>False</td>\n",
       "      <td>False</td>\n",
       "      <td>False</td>\n",
       "      <td>False</td>\n",
       "      <td>False</td>\n",
       "      <td>False</td>\n",
       "    </tr>\n",
       "    <tr>\n",
       "      <th>10</th>\n",
       "      <td>False</td>\n",
       "      <td>False</td>\n",
       "      <td>False</td>\n",
       "      <td>False</td>\n",
       "      <td>False</td>\n",
       "      <td>False</td>\n",
       "      <td>False</td>\n",
       "      <td>False</td>\n",
       "    </tr>\n",
       "    <tr>\n",
       "      <th>11</th>\n",
       "      <td>True</td>\n",
       "      <td>True</td>\n",
       "      <td>True</td>\n",
       "      <td>True</td>\n",
       "      <td>True</td>\n",
       "      <td>True</td>\n",
       "      <td>True</td>\n",
       "      <td>True</td>\n",
       "    </tr>\n",
       "    <tr>\n",
       "      <th>12</th>\n",
       "      <td>False</td>\n",
       "      <td>False</td>\n",
       "      <td>False</td>\n",
       "      <td>False</td>\n",
       "      <td>False</td>\n",
       "      <td>False</td>\n",
       "      <td>False</td>\n",
       "      <td>False</td>\n",
       "    </tr>\n",
       "    <tr>\n",
       "      <th>13</th>\n",
       "      <td>False</td>\n",
       "      <td>False</td>\n",
       "      <td>False</td>\n",
       "      <td>False</td>\n",
       "      <td>False</td>\n",
       "      <td>False</td>\n",
       "      <td>False</td>\n",
       "      <td>False</td>\n",
       "    </tr>\n",
       "    <tr>\n",
       "      <th>14</th>\n",
       "      <td>False</td>\n",
       "      <td>False</td>\n",
       "      <td>False</td>\n",
       "      <td>False</td>\n",
       "      <td>False</td>\n",
       "      <td>False</td>\n",
       "      <td>False</td>\n",
       "      <td>False</td>\n",
       "    </tr>\n",
       "    <tr>\n",
       "      <th>15</th>\n",
       "      <td>False</td>\n",
       "      <td>False</td>\n",
       "      <td>False</td>\n",
       "      <td>False</td>\n",
       "      <td>False</td>\n",
       "      <td>False</td>\n",
       "      <td>False</td>\n",
       "      <td>False</td>\n",
       "    </tr>\n",
       "    <tr>\n",
       "      <th>16</th>\n",
       "      <td>False</td>\n",
       "      <td>False</td>\n",
       "      <td>False</td>\n",
       "      <td>False</td>\n",
       "      <td>False</td>\n",
       "      <td>False</td>\n",
       "      <td>False</td>\n",
       "      <td>False</td>\n",
       "    </tr>\n",
       "  </tbody>\n",
       "</table>\n",
       "</div>"
      ],
      "text/plain": [
       "    Time (hours)  Humidity Level 1 (%)  Humidity Level 2 (%)  \\\n",
       "0          False                 False                 False   \n",
       "1          False                 False                 False   \n",
       "2          False                 False                 False   \n",
       "3          False                 False                 False   \n",
       "4          False                 False                 False   \n",
       "5           True                  True                  True   \n",
       "6          False                 False                 False   \n",
       "7          False                 False                 False   \n",
       "8          False                 False                 False   \n",
       "9          False                 False                 False   \n",
       "10         False                 False                 False   \n",
       "11          True                  True                  True   \n",
       "12         False                 False                 False   \n",
       "13         False                 False                 False   \n",
       "14         False                 False                 False   \n",
       "15         False                 False                 False   \n",
       "16         False                 False                 False   \n",
       "\n",
       "    Humidity Level 3 (%)  Temperature Level 1 (Â°C)  \\\n",
       "0                  False                      False   \n",
       "1                  False                      False   \n",
       "2                  False                      False   \n",
       "3                  False                      False   \n",
       "4                  False                      False   \n",
       "5                   True                       True   \n",
       "6                  False                      False   \n",
       "7                  False                      False   \n",
       "8                  False                      False   \n",
       "9                  False                      False   \n",
       "10                 False                      False   \n",
       "11                  True                       True   \n",
       "12                 False                      False   \n",
       "13                 False                      False   \n",
       "14                 False                      False   \n",
       "15                 False                      False   \n",
       "16                 False                      False   \n",
       "\n",
       "    Temperature Level 2 (Â°C)  Temperature Level 3 (Â°C)  Water Quantity (L)  \n",
       "0                       False                      False               False  \n",
       "1                       False                      False               False  \n",
       "2                       False                      False               False  \n",
       "3                       False                      False               False  \n",
       "4                       False                      False               False  \n",
       "5                        True                       True                True  \n",
       "6                       False                      False               False  \n",
       "7                       False                      False               False  \n",
       "8                       False                      False               False  \n",
       "9                       False                      False               False  \n",
       "10                      False                      False               False  \n",
       "11                       True                       True                True  \n",
       "12                      False                      False               False  \n",
       "13                      False                      False               False  \n",
       "14                      False                      False               False  \n",
       "15                      False                      False               False  \n",
       "16                      False                      False               False  "
      ]
     },
     "execution_count": 22,
     "metadata": {},
     "output_type": "execute_result"
    }
   ],
   "source": [
    "df.isnull()"
   ]
  },
  {
   "cell_type": "code",
   "execution_count": 23,
   "id": "768f0ff4-c8d6-44e4-aab6-782b495af1aa",
   "metadata": {},
   "outputs": [
    {
     "name": "stdout",
     "output_type": "stream",
     "text": [
      "Time (hours)                 2\n",
      "Humidity Level 1 (%)         2\n",
      "Humidity Level 2 (%)         2\n",
      "Humidity Level 3 (%)         2\n",
      "Temperature Level 1 (Â°C)    2\n",
      "Temperature Level 2 (Â°C)    2\n",
      "Temperature Level 3 (Â°C)    2\n",
      "Water Quantity (L)           2\n",
      "dtype: int64\n"
     ]
    }
   ],
   "source": [
    "# Vérification des données manquantes\n",
    "print(df.isnull().sum())"
   ]
  },
  {
   "cell_type": "code",
   "execution_count": 24,
   "id": "1484e2b4-44b8-41b7-82f4-363e4879b91a",
   "metadata": {},
   "outputs": [
    {
     "name": "stdout",
     "output_type": "stream",
     "text": [
      "Index(['Time (hours)', 'Humidity Level 1 (%)', 'Humidity Level 2 (%)',\n",
      "       'Humidity Level 3 (%)', 'Temperature Level 1 (Â°C)',\n",
      "       'Temperature Level 2 (Â°C)', 'Temperature Level 3 (Â°C)',\n",
      "       'Water Quantity (L)'],\n",
      "      dtype='object')\n"
     ]
    }
   ],
   "source": [
    "print(df.columns)"
   ]
  },
  {
   "cell_type": "code",
   "execution_count": 25,
   "id": "83b53b13-930f-42f9-9694-30d469d3506c",
   "metadata": {},
   "outputs": [],
   "source": [
    "# Suppression des lignes avec des valeurs manquantes\n",
    "df.dropna(inplace=True)\n"
   ]
  },
  {
   "cell_type": "code",
   "execution_count": 26,
   "id": "592f1e1b-1658-4402-abc9-46aca06afc62",
   "metadata": {},
   "outputs": [
    {
     "name": "stdout",
     "output_type": "stream",
     "text": [
      "Time (hours)                 0\n",
      "Humidity Level 1 (%)         0\n",
      "Humidity Level 2 (%)         0\n",
      "Humidity Level 3 (%)         0\n",
      "Temperature Level 1 (Â°C)    0\n",
      "Temperature Level 2 (Â°C)    0\n",
      "Temperature Level 3 (Â°C)    0\n",
      "Water Quantity (L)           0\n",
      "dtype: int64\n"
     ]
    }
   ],
   "source": [
    "# Vérification des données manquantes\n",
    "print(df.isnull().sum())"
   ]
  },
  {
   "cell_type": "code",
   "execution_count": 27,
   "id": "7fc2db16-7d06-4bf9-951e-b48572753dcd",
   "metadata": {},
   "outputs": [],
   "source": [
    "from sklearn.preprocessing import LabelEncoder\n",
    "scale = LabelEncoder()"
   ]
  },
  {
   "cell_type": "code",
   "execution_count": 28,
   "id": "4fae254d-08f3-4163-9fe1-fcc45a3c5d80",
   "metadata": {},
   "outputs": [],
   "source": [
    "#prépare les données de la colonne df[i] en ajustant un scaler approprié aux données \n",
    "for i in cat :\n",
    "    df[i]=scale.fit_transform(df[i])"
   ]
  },
  {
   "cell_type": "code",
   "execution_count": 29,
   "id": "330d063b-0f77-45b4-bfc6-7274bf8e7624",
   "metadata": {},
   "outputs": [
    {
     "data": {
      "text/html": [
       "<div>\n",
       "<style scoped>\n",
       "    .dataframe tbody tr th:only-of-type {\n",
       "        vertical-align: middle;\n",
       "    }\n",
       "\n",
       "    .dataframe tbody tr th {\n",
       "        vertical-align: top;\n",
       "    }\n",
       "\n",
       "    .dataframe thead th {\n",
       "        text-align: right;\n",
       "    }\n",
       "</style>\n",
       "<table border=\"1\" class=\"dataframe\">\n",
       "  <thead>\n",
       "    <tr style=\"text-align: right;\">\n",
       "      <th></th>\n",
       "      <th>Time (hours)</th>\n",
       "      <th>Humidity Level 1 (%)</th>\n",
       "      <th>Humidity Level 2 (%)</th>\n",
       "      <th>Humidity Level 3 (%)</th>\n",
       "      <th>Temperature Level 1 (Â°C)</th>\n",
       "      <th>Temperature Level 2 (Â°C)</th>\n",
       "      <th>Temperature Level 3 (Â°C)</th>\n",
       "      <th>Water Quantity (L)</th>\n",
       "    </tr>\n",
       "  </thead>\n",
       "  <tbody>\n",
       "    <tr>\n",
       "      <th>0</th>\n",
       "      <td>0.0</td>\n",
       "      <td>80.0</td>\n",
       "      <td>30.0</td>\n",
       "      <td>20.0</td>\n",
       "      <td>25.0</td>\n",
       "      <td>24.0</td>\n",
       "      <td>23.0</td>\n",
       "      <td>40.0</td>\n",
       "    </tr>\n",
       "    <tr>\n",
       "      <th>1</th>\n",
       "      <td>12.0</td>\n",
       "      <td>70.0</td>\n",
       "      <td>40.0</td>\n",
       "      <td>30.0</td>\n",
       "      <td>28.0</td>\n",
       "      <td>27.0</td>\n",
       "      <td>26.0</td>\n",
       "      <td>40.0</td>\n",
       "    </tr>\n",
       "    <tr>\n",
       "      <th>2</th>\n",
       "      <td>24.0</td>\n",
       "      <td>60.0</td>\n",
       "      <td>50.0</td>\n",
       "      <td>40.0</td>\n",
       "      <td>30.0</td>\n",
       "      <td>29.0</td>\n",
       "      <td>28.0</td>\n",
       "      <td>40.0</td>\n",
       "    </tr>\n",
       "    <tr>\n",
       "      <th>3</th>\n",
       "      <td>36.0</td>\n",
       "      <td>50.0</td>\n",
       "      <td>55.0</td>\n",
       "      <td>45.0</td>\n",
       "      <td>27.0</td>\n",
       "      <td>26.0</td>\n",
       "      <td>25.0</td>\n",
       "      <td>40.0</td>\n",
       "    </tr>\n",
       "    <tr>\n",
       "      <th>4</th>\n",
       "      <td>48.0</td>\n",
       "      <td>40.0</td>\n",
       "      <td>60.0</td>\n",
       "      <td>50.0</td>\n",
       "      <td>20.0</td>\n",
       "      <td>21.0</td>\n",
       "      <td>22.0</td>\n",
       "      <td>40.0</td>\n",
       "    </tr>\n",
       "  </tbody>\n",
       "</table>\n",
       "</div>"
      ],
      "text/plain": [
       "   Time (hours)  Humidity Level 1 (%)  Humidity Level 2 (%)  \\\n",
       "0           0.0                  80.0                  30.0   \n",
       "1          12.0                  70.0                  40.0   \n",
       "2          24.0                  60.0                  50.0   \n",
       "3          36.0                  50.0                  55.0   \n",
       "4          48.0                  40.0                  60.0   \n",
       "\n",
       "   Humidity Level 3 (%)  Temperature Level 1 (Â°C)  Temperature Level 2 (Â°C)  \\\n",
       "0                  20.0                       25.0                       24.0   \n",
       "1                  30.0                       28.0                       27.0   \n",
       "2                  40.0                       30.0                       29.0   \n",
       "3                  45.0                       27.0                       26.0   \n",
       "4                  50.0                       20.0                       21.0   \n",
       "\n",
       "   Temperature Level 3 (Â°C)  Water Quantity (L)  \n",
       "0                       23.0                40.0  \n",
       "1                       26.0                40.0  \n",
       "2                       28.0                40.0  \n",
       "3                       25.0                40.0  \n",
       "4                       22.0                40.0  "
      ]
     },
     "execution_count": 29,
     "metadata": {},
     "output_type": "execute_result"
    }
   ],
   "source": [
    "df.head()"
   ]
  },
  {
   "cell_type": "code",
   "execution_count": 30,
   "id": "db319d91-89cf-454b-9b3c-e2cba4a75713",
   "metadata": {},
   "outputs": [],
   "source": [
    "x_multi =df.drop(\"Water Quantity (L)\",axis=1)"
   ]
  },
  {
   "cell_type": "code",
   "execution_count": 31,
   "id": "efaa12ce-8978-4f21-ae4b-c0cecab9b317",
   "metadata": {},
   "outputs": [
    {
     "data": {
      "text/html": [
       "<div>\n",
       "<style scoped>\n",
       "    .dataframe tbody tr th:only-of-type {\n",
       "        vertical-align: middle;\n",
       "    }\n",
       "\n",
       "    .dataframe tbody tr th {\n",
       "        vertical-align: top;\n",
       "    }\n",
       "\n",
       "    .dataframe thead th {\n",
       "        text-align: right;\n",
       "    }\n",
       "</style>\n",
       "<table border=\"1\" class=\"dataframe\">\n",
       "  <thead>\n",
       "    <tr style=\"text-align: right;\">\n",
       "      <th></th>\n",
       "      <th>Time (hours)</th>\n",
       "      <th>Humidity Level 1 (%)</th>\n",
       "      <th>Humidity Level 2 (%)</th>\n",
       "      <th>Humidity Level 3 (%)</th>\n",
       "      <th>Temperature Level 1 (Â°C)</th>\n",
       "      <th>Temperature Level 2 (Â°C)</th>\n",
       "      <th>Temperature Level 3 (Â°C)</th>\n",
       "    </tr>\n",
       "  </thead>\n",
       "  <tbody>\n",
       "    <tr>\n",
       "      <th>0</th>\n",
       "      <td>0.0</td>\n",
       "      <td>80.0</td>\n",
       "      <td>30.0</td>\n",
       "      <td>20.0</td>\n",
       "      <td>25.0</td>\n",
       "      <td>24.0</td>\n",
       "      <td>23.0</td>\n",
       "    </tr>\n",
       "    <tr>\n",
       "      <th>1</th>\n",
       "      <td>12.0</td>\n",
       "      <td>70.0</td>\n",
       "      <td>40.0</td>\n",
       "      <td>30.0</td>\n",
       "      <td>28.0</td>\n",
       "      <td>27.0</td>\n",
       "      <td>26.0</td>\n",
       "    </tr>\n",
       "    <tr>\n",
       "      <th>2</th>\n",
       "      <td>24.0</td>\n",
       "      <td>60.0</td>\n",
       "      <td>50.0</td>\n",
       "      <td>40.0</td>\n",
       "      <td>30.0</td>\n",
       "      <td>29.0</td>\n",
       "      <td>28.0</td>\n",
       "    </tr>\n",
       "    <tr>\n",
       "      <th>3</th>\n",
       "      <td>36.0</td>\n",
       "      <td>50.0</td>\n",
       "      <td>55.0</td>\n",
       "      <td>45.0</td>\n",
       "      <td>27.0</td>\n",
       "      <td>26.0</td>\n",
       "      <td>25.0</td>\n",
       "    </tr>\n",
       "    <tr>\n",
       "      <th>4</th>\n",
       "      <td>48.0</td>\n",
       "      <td>40.0</td>\n",
       "      <td>60.0</td>\n",
       "      <td>50.0</td>\n",
       "      <td>20.0</td>\n",
       "      <td>21.0</td>\n",
       "      <td>22.0</td>\n",
       "    </tr>\n",
       "    <tr>\n",
       "      <th>6</th>\n",
       "      <td>0.0</td>\n",
       "      <td>80.0</td>\n",
       "      <td>30.0</td>\n",
       "      <td>20.0</td>\n",
       "      <td>25.0</td>\n",
       "      <td>24.0</td>\n",
       "      <td>23.0</td>\n",
       "    </tr>\n",
       "    <tr>\n",
       "      <th>7</th>\n",
       "      <td>12.0</td>\n",
       "      <td>70.0</td>\n",
       "      <td>40.0</td>\n",
       "      <td>30.0</td>\n",
       "      <td>28.0</td>\n",
       "      <td>27.0</td>\n",
       "      <td>26.0</td>\n",
       "    </tr>\n",
       "    <tr>\n",
       "      <th>8</th>\n",
       "      <td>24.0</td>\n",
       "      <td>60.0</td>\n",
       "      <td>50.0</td>\n",
       "      <td>40.0</td>\n",
       "      <td>30.0</td>\n",
       "      <td>29.0</td>\n",
       "      <td>28.0</td>\n",
       "    </tr>\n",
       "    <tr>\n",
       "      <th>9</th>\n",
       "      <td>36.0</td>\n",
       "      <td>50.0</td>\n",
       "      <td>55.0</td>\n",
       "      <td>45.0</td>\n",
       "      <td>27.0</td>\n",
       "      <td>26.0</td>\n",
       "      <td>25.0</td>\n",
       "    </tr>\n",
       "    <tr>\n",
       "      <th>10</th>\n",
       "      <td>48.0</td>\n",
       "      <td>40.0</td>\n",
       "      <td>60.0</td>\n",
       "      <td>50.0</td>\n",
       "      <td>20.0</td>\n",
       "      <td>21.0</td>\n",
       "      <td>22.0</td>\n",
       "    </tr>\n",
       "    <tr>\n",
       "      <th>12</th>\n",
       "      <td>0.0</td>\n",
       "      <td>80.0</td>\n",
       "      <td>30.0</td>\n",
       "      <td>20.0</td>\n",
       "      <td>10.0</td>\n",
       "      <td>9.0</td>\n",
       "      <td>8.0</td>\n",
       "    </tr>\n",
       "    <tr>\n",
       "      <th>13</th>\n",
       "      <td>24.0</td>\n",
       "      <td>70.0</td>\n",
       "      <td>40.0</td>\n",
       "      <td>30.0</td>\n",
       "      <td>12.0</td>\n",
       "      <td>11.0</td>\n",
       "      <td>10.0</td>\n",
       "    </tr>\n",
       "  </tbody>\n",
       "</table>\n",
       "</div>"
      ],
      "text/plain": [
       "    Time (hours)  Humidity Level 1 (%)  Humidity Level 2 (%)  \\\n",
       "0            0.0                  80.0                  30.0   \n",
       "1           12.0                  70.0                  40.0   \n",
       "2           24.0                  60.0                  50.0   \n",
       "3           36.0                  50.0                  55.0   \n",
       "4           48.0                  40.0                  60.0   \n",
       "6            0.0                  80.0                  30.0   \n",
       "7           12.0                  70.0                  40.0   \n",
       "8           24.0                  60.0                  50.0   \n",
       "9           36.0                  50.0                  55.0   \n",
       "10          48.0                  40.0                  60.0   \n",
       "12           0.0                  80.0                  30.0   \n",
       "13          24.0                  70.0                  40.0   \n",
       "\n",
       "    Humidity Level 3 (%)  Temperature Level 1 (Â°C)  \\\n",
       "0                   20.0                       25.0   \n",
       "1                   30.0                       28.0   \n",
       "2                   40.0                       30.0   \n",
       "3                   45.0                       27.0   \n",
       "4                   50.0                       20.0   \n",
       "6                   20.0                       25.0   \n",
       "7                   30.0                       28.0   \n",
       "8                   40.0                       30.0   \n",
       "9                   45.0                       27.0   \n",
       "10                  50.0                       20.0   \n",
       "12                  20.0                       10.0   \n",
       "13                  30.0                       12.0   \n",
       "\n",
       "    Temperature Level 2 (Â°C)  Temperature Level 3 (Â°C)  \n",
       "0                        24.0                       23.0  \n",
       "1                        27.0                       26.0  \n",
       "2                        29.0                       28.0  \n",
       "3                        26.0                       25.0  \n",
       "4                        21.0                       22.0  \n",
       "6                        24.0                       23.0  \n",
       "7                        27.0                       26.0  \n",
       "8                        29.0                       28.0  \n",
       "9                        26.0                       25.0  \n",
       "10                       21.0                       22.0  \n",
       "12                        9.0                        8.0  \n",
       "13                       11.0                       10.0  "
      ]
     },
     "execution_count": 31,
     "metadata": {},
     "output_type": "execute_result"
    }
   ],
   "source": [
    "x_multi.head(12)"
   ]
  },
  {
   "cell_type": "code",
   "execution_count": 32,
   "id": "79946be4-43cf-40f2-aa4f-bfe5b4042616",
   "metadata": {},
   "outputs": [],
   "source": [
    "y_multi=df['Water Quantity (L)']"
   ]
  },
  {
   "cell_type": "code",
   "execution_count": 33,
   "id": "8d0ad125-5237-44b9-8c89-0b9dfb5e0266",
   "metadata": {},
   "outputs": [
    {
     "data": {
      "text/plain": [
       "0    40.0\n",
       "1    40.0\n",
       "2    40.0\n",
       "3    40.0\n",
       "4    40.0\n",
       "Name: Water Quantity (L), dtype: float64"
      ]
     },
     "execution_count": 33,
     "metadata": {},
     "output_type": "execute_result"
    }
   ],
   "source": [
    "y_multi.head()"
   ]
  },
  {
   "cell_type": "code",
   "execution_count": 34,
   "id": "571f7368-29f5-463d-9918-e7810263b730",
   "metadata": {},
   "outputs": [],
   "source": [
    "x_multi_cons=sn.add_constant(x_multi)"
   ]
  },
  {
   "cell_type": "code",
   "execution_count": 35,
   "id": "4702edfd-cc79-4536-b7f5-1aecc9b526e6",
   "metadata": {},
   "outputs": [
    {
     "data": {
      "text/html": [
       "<div>\n",
       "<style scoped>\n",
       "    .dataframe tbody tr th:only-of-type {\n",
       "        vertical-align: middle;\n",
       "    }\n",
       "\n",
       "    .dataframe tbody tr th {\n",
       "        vertical-align: top;\n",
       "    }\n",
       "\n",
       "    .dataframe thead th {\n",
       "        text-align: right;\n",
       "    }\n",
       "</style>\n",
       "<table border=\"1\" class=\"dataframe\">\n",
       "  <thead>\n",
       "    <tr style=\"text-align: right;\">\n",
       "      <th></th>\n",
       "      <th>const</th>\n",
       "      <th>Time (hours)</th>\n",
       "      <th>Humidity Level 1 (%)</th>\n",
       "      <th>Humidity Level 2 (%)</th>\n",
       "      <th>Humidity Level 3 (%)</th>\n",
       "      <th>Temperature Level 1 (Â°C)</th>\n",
       "      <th>Temperature Level 2 (Â°C)</th>\n",
       "      <th>Temperature Level 3 (Â°C)</th>\n",
       "    </tr>\n",
       "  </thead>\n",
       "  <tbody>\n",
       "    <tr>\n",
       "      <th>0</th>\n",
       "      <td>1.0</td>\n",
       "      <td>0.0</td>\n",
       "      <td>80.0</td>\n",
       "      <td>30.0</td>\n",
       "      <td>20.0</td>\n",
       "      <td>25.0</td>\n",
       "      <td>24.0</td>\n",
       "      <td>23.0</td>\n",
       "    </tr>\n",
       "    <tr>\n",
       "      <th>1</th>\n",
       "      <td>1.0</td>\n",
       "      <td>12.0</td>\n",
       "      <td>70.0</td>\n",
       "      <td>40.0</td>\n",
       "      <td>30.0</td>\n",
       "      <td>28.0</td>\n",
       "      <td>27.0</td>\n",
       "      <td>26.0</td>\n",
       "    </tr>\n",
       "    <tr>\n",
       "      <th>2</th>\n",
       "      <td>1.0</td>\n",
       "      <td>24.0</td>\n",
       "      <td>60.0</td>\n",
       "      <td>50.0</td>\n",
       "      <td>40.0</td>\n",
       "      <td>30.0</td>\n",
       "      <td>29.0</td>\n",
       "      <td>28.0</td>\n",
       "    </tr>\n",
       "    <tr>\n",
       "      <th>3</th>\n",
       "      <td>1.0</td>\n",
       "      <td>36.0</td>\n",
       "      <td>50.0</td>\n",
       "      <td>55.0</td>\n",
       "      <td>45.0</td>\n",
       "      <td>27.0</td>\n",
       "      <td>26.0</td>\n",
       "      <td>25.0</td>\n",
       "    </tr>\n",
       "    <tr>\n",
       "      <th>4</th>\n",
       "      <td>1.0</td>\n",
       "      <td>48.0</td>\n",
       "      <td>40.0</td>\n",
       "      <td>60.0</td>\n",
       "      <td>50.0</td>\n",
       "      <td>20.0</td>\n",
       "      <td>21.0</td>\n",
       "      <td>22.0</td>\n",
       "    </tr>\n",
       "  </tbody>\n",
       "</table>\n",
       "</div>"
      ],
      "text/plain": [
       "   const  Time (hours)  Humidity Level 1 (%)  Humidity Level 2 (%)  \\\n",
       "0    1.0           0.0                  80.0                  30.0   \n",
       "1    1.0          12.0                  70.0                  40.0   \n",
       "2    1.0          24.0                  60.0                  50.0   \n",
       "3    1.0          36.0                  50.0                  55.0   \n",
       "4    1.0          48.0                  40.0                  60.0   \n",
       "\n",
       "   Humidity Level 3 (%)  Temperature Level 1 (Â°C)  Temperature Level 2 (Â°C)  \\\n",
       "0                  20.0                       25.0                       24.0   \n",
       "1                  30.0                       28.0                       27.0   \n",
       "2                  40.0                       30.0                       29.0   \n",
       "3                  45.0                       27.0                       26.0   \n",
       "4                  50.0                       20.0                       21.0   \n",
       "\n",
       "   Temperature Level 3 (Â°C)  \n",
       "0                       23.0  \n",
       "1                       26.0  \n",
       "2                       28.0  \n",
       "3                       25.0  \n",
       "4                       22.0  "
      ]
     },
     "execution_count": 35,
     "metadata": {},
     "output_type": "execute_result"
    }
   ],
   "source": [
    "x_multi_cons.head()\n"
   ]
  },
  {
   "cell_type": "code",
   "execution_count": 36,
   "id": "8630a8a1-7ba8-40d7-94bc-b902ec63343b",
   "metadata": {},
   "outputs": [],
   "source": [
    "Lm_multi= sn.OLS(y_multi,x_multi_cons).fit()"
   ]
  },
  {
   "cell_type": "code",
   "execution_count": 37,
   "id": "d61337d7-472d-4385-a838-634b016f222e",
   "metadata": {},
   "outputs": [
    {
     "name": "stderr",
     "output_type": "stream",
     "text": [
      "C:\\Users\\SOUHA\\anaconda3\\Lib\\site-packages\\scipy\\stats\\_stats_py.py:1806: UserWarning: kurtosistest only valid for n>=20 ... continuing anyway, n=15\n",
      "  warnings.warn(\"kurtosistest only valid for n>=20 ... continuing \"\n"
     ]
    },
    {
     "data": {
      "text/html": [
       "<table class=\"simpletable\">\n",
       "<caption>OLS Regression Results</caption>\n",
       "<tr>\n",
       "  <th>Dep. Variable:</th>    <td>Water Quantity (L)</td> <th>  R-squared:         </th> <td>   0.997</td>\n",
       "</tr>\n",
       "<tr>\n",
       "  <th>Model:</th>                    <td>OLS</td>        <th>  Adj. R-squared:    </th> <td>   0.995</td>\n",
       "</tr>\n",
       "<tr>\n",
       "  <th>Method:</th>              <td>Least Squares</td>   <th>  F-statistic:       </th> <td>   584.0</td>\n",
       "</tr>\n",
       "<tr>\n",
       "  <th>Date:</th>              <td>Mon, 22 Jul 2024</td>  <th>  Prob (F-statistic):</th> <td>5.09e-11</td>\n",
       "</tr>\n",
       "<tr>\n",
       "  <th>Time:</th>                  <td>09:36:34</td>      <th>  Log-Likelihood:    </th> <td> -1.1531</td>\n",
       "</tr>\n",
       "<tr>\n",
       "  <th>No. Observations:</th>       <td>    15</td>       <th>  AIC:               </th> <td>   14.31</td>\n",
       "</tr>\n",
       "<tr>\n",
       "  <th>Df Residuals:</th>           <td>     9</td>       <th>  BIC:               </th> <td>   18.55</td>\n",
       "</tr>\n",
       "<tr>\n",
       "  <th>Df Model:</th>               <td>     5</td>       <th>                     </th>     <td> </td>   \n",
       "</tr>\n",
       "<tr>\n",
       "  <th>Covariance Type:</th>       <td>nonrobust</td>     <th>                     </th>     <td> </td>   \n",
       "</tr>\n",
       "</table>\n",
       "<table class=\"simpletable\">\n",
       "<tr>\n",
       "              <td></td>                 <th>coef</th>     <th>std err</th>      <th>t</th>      <th>P>|t|</th>  <th>[0.025</th>    <th>0.975]</th>  \n",
       "</tr>\n",
       "<tr>\n",
       "  <th>const</th>                     <td>    1.4530</td> <td>    0.114</td> <td>   12.782</td> <td> 0.000</td> <td>    1.196</td> <td>    1.710</td>\n",
       "</tr>\n",
       "<tr>\n",
       "  <th>Time (hours)</th>              <td>   -0.0315</td> <td>    0.013</td> <td>   -2.478</td> <td> 0.035</td> <td>   -0.060</td> <td>   -0.003</td>\n",
       "</tr>\n",
       "<tr>\n",
       "  <th>Humidity Level 1 (%)</th>      <td>   -0.4389</td> <td>    0.056</td> <td>   -7.814</td> <td> 0.000</td> <td>   -0.566</td> <td>   -0.312</td>\n",
       "</tr>\n",
       "<tr>\n",
       "  <th>Humidity Level 2 (%)</th>      <td>    7.0005</td> <td>    0.541</td> <td>   12.937</td> <td> 0.000</td> <td>    5.776</td> <td>    8.225</td>\n",
       "</tr>\n",
       "<tr>\n",
       "  <th>Humidity Level 3 (%)</th>      <td>   -7.5290</td> <td>    0.596</td> <td>  -12.637</td> <td> 0.000</td> <td>   -8.877</td> <td>   -6.181</td>\n",
       "</tr>\n",
       "<tr>\n",
       "  <th>Temperature Level 1 (Â°C)</th> <td>   -0.2901</td> <td>    0.123</td> <td>   -2.358</td> <td> 0.043</td> <td>   -0.568</td> <td>   -0.012</td>\n",
       "</tr>\n",
       "<tr>\n",
       "  <th>Temperature Level 2 (Â°C)</th> <td>    0.2069</td> <td>    0.007</td> <td>   29.782</td> <td> 0.000</td> <td>    0.191</td> <td>    0.223</td>\n",
       "</tr>\n",
       "<tr>\n",
       "  <th>Temperature Level 3 (Â°C)</th> <td>    0.7040</td> <td>    0.129</td> <td>    5.470</td> <td> 0.000</td> <td>    0.413</td> <td>    0.995</td>\n",
       "</tr>\n",
       "</table>\n",
       "<table class=\"simpletable\">\n",
       "<tr>\n",
       "  <th>Omnibus:</th>       <td> 3.664</td> <th>  Durbin-Watson:     </th> <td>   2.108</td>\n",
       "</tr>\n",
       "<tr>\n",
       "  <th>Prob(Omnibus):</th> <td> 0.160</td> <th>  Jarque-Bera (JB):  </th> <td>   1.260</td>\n",
       "</tr>\n",
       "<tr>\n",
       "  <th>Skew:</th>          <td> 0.143</td> <th>  Prob(JB):          </th> <td>   0.533</td>\n",
       "</tr>\n",
       "<tr>\n",
       "  <th>Kurtosis:</th>      <td> 1.609</td> <th>  Cond. No.          </th> <td>2.47e+17</td>\n",
       "</tr>\n",
       "</table><br/><br/>Notes:<br/>[1] Standard Errors assume that the covariance matrix of the errors is correctly specified.<br/>[2] The smallest eigenvalue is 2.35e-30. This might indicate that there are<br/>strong multicollinearity problems or that the design matrix is singular."
      ],
      "text/latex": [
       "\\begin{center}\n",
       "\\begin{tabular}{lclc}\n",
       "\\toprule\n",
       "\\textbf{Dep. Variable:}            & Water Quantity (L) & \\textbf{  R-squared:         } &     0.997   \\\\\n",
       "\\textbf{Model:}                    &        OLS         & \\textbf{  Adj. R-squared:    } &     0.995   \\\\\n",
       "\\textbf{Method:}                   &   Least Squares    & \\textbf{  F-statistic:       } &     584.0   \\\\\n",
       "\\textbf{Date:}                     &  Mon, 22 Jul 2024  & \\textbf{  Prob (F-statistic):} &  5.09e-11   \\\\\n",
       "\\textbf{Time:}                     &      09:36:34      & \\textbf{  Log-Likelihood:    } &   -1.1531   \\\\\n",
       "\\textbf{No. Observations:}         &           15       & \\textbf{  AIC:               } &     14.31   \\\\\n",
       "\\textbf{Df Residuals:}             &            9       & \\textbf{  BIC:               } &     18.55   \\\\\n",
       "\\textbf{Df Model:}                 &            5       & \\textbf{                     } &             \\\\\n",
       "\\textbf{Covariance Type:}          &     nonrobust      & \\textbf{                     } &             \\\\\n",
       "\\bottomrule\n",
       "\\end{tabular}\n",
       "\\begin{tabular}{lcccccc}\n",
       "                                   & \\textbf{coef} & \\textbf{std err} & \\textbf{t} & \\textbf{P$> |$t$|$} & \\textbf{[0.025} & \\textbf{0.975]}  \\\\\n",
       "\\midrule\n",
       "\\textbf{const}                     &       1.4530  &        0.114     &    12.782  &         0.000        &        1.196    &        1.710     \\\\\n",
       "\\textbf{Time (hours)}              &      -0.0315  &        0.013     &    -2.478  &         0.035        &       -0.060    &       -0.003     \\\\\n",
       "\\textbf{Humidity Level 1 (\\%)}     &      -0.4389  &        0.056     &    -7.814  &         0.000        &       -0.566    &       -0.312     \\\\\n",
       "\\textbf{Humidity Level 2 (\\%)}     &       7.0005  &        0.541     &    12.937  &         0.000        &        5.776    &        8.225     \\\\\n",
       "\\textbf{Humidity Level 3 (\\%)}     &      -7.5290  &        0.596     &   -12.637  &         0.000        &       -8.877    &       -6.181     \\\\\n",
       "\\textbf{Temperature Level 1 (Â°C)} &      -0.2901  &        0.123     &    -2.358  &         0.043        &       -0.568    &       -0.012     \\\\\n",
       "\\textbf{Temperature Level 2 (Â°C)} &       0.2069  &        0.007     &    29.782  &         0.000        &        0.191    &        0.223     \\\\\n",
       "\\textbf{Temperature Level 3 (Â°C)} &       0.7040  &        0.129     &     5.470  &         0.000        &        0.413    &        0.995     \\\\\n",
       "\\bottomrule\n",
       "\\end{tabular}\n",
       "\\begin{tabular}{lclc}\n",
       "\\textbf{Omnibus:}       &  3.664 & \\textbf{  Durbin-Watson:     } &    2.108  \\\\\n",
       "\\textbf{Prob(Omnibus):} &  0.160 & \\textbf{  Jarque-Bera (JB):  } &    1.260  \\\\\n",
       "\\textbf{Skew:}          &  0.143 & \\textbf{  Prob(JB):          } &    0.533  \\\\\n",
       "\\textbf{Kurtosis:}      &  1.609 & \\textbf{  Cond. No.          } & 2.47e+17  \\\\\n",
       "\\bottomrule\n",
       "\\end{tabular}\n",
       "%\\caption{OLS Regression Results}\n",
       "\\end{center}\n",
       "\n",
       "Notes: \\newline\n",
       " [1] Standard Errors assume that the covariance matrix of the errors is correctly specified. \\newline\n",
       " [2] The smallest eigenvalue is 2.35e-30. This might indicate that there are \\newline\n",
       " strong multicollinearity problems or that the design matrix is singular."
      ],
      "text/plain": [
       "<class 'statsmodels.iolib.summary.Summary'>\n",
       "\"\"\"\n",
       "                            OLS Regression Results                            \n",
       "==============================================================================\n",
       "Dep. Variable:     Water Quantity (L)   R-squared:                       0.997\n",
       "Model:                            OLS   Adj. R-squared:                  0.995\n",
       "Method:                 Least Squares   F-statistic:                     584.0\n",
       "Date:                Mon, 22 Jul 2024   Prob (F-statistic):           5.09e-11\n",
       "Time:                        09:36:34   Log-Likelihood:                -1.1531\n",
       "No. Observations:                  15   AIC:                             14.31\n",
       "Df Residuals:                       9   BIC:                             18.55\n",
       "Df Model:                           5                                         \n",
       "Covariance Type:            nonrobust                                         \n",
       "=============================================================================================\n",
       "                                coef    std err          t      P>|t|      [0.025      0.975]\n",
       "---------------------------------------------------------------------------------------------\n",
       "const                         1.4530      0.114     12.782      0.000       1.196       1.710\n",
       "Time (hours)                 -0.0315      0.013     -2.478      0.035      -0.060      -0.003\n",
       "Humidity Level 1 (%)         -0.4389      0.056     -7.814      0.000      -0.566      -0.312\n",
       "Humidity Level 2 (%)          7.0005      0.541     12.937      0.000       5.776       8.225\n",
       "Humidity Level 3 (%)         -7.5290      0.596    -12.637      0.000      -8.877      -6.181\n",
       "Temperature Level 1 (Â°C)    -0.2901      0.123     -2.358      0.043      -0.568      -0.012\n",
       "Temperature Level 2 (Â°C)     0.2069      0.007     29.782      0.000       0.191       0.223\n",
       "Temperature Level 3 (Â°C)     0.7040      0.129      5.470      0.000       0.413       0.995\n",
       "==============================================================================\n",
       "Omnibus:                        3.664   Durbin-Watson:                   2.108\n",
       "Prob(Omnibus):                  0.160   Jarque-Bera (JB):                1.260\n",
       "Skew:                           0.143   Prob(JB):                        0.533\n",
       "Kurtosis:                       1.609   Cond. No.                     2.47e+17\n",
       "==============================================================================\n",
       "\n",
       "Notes:\n",
       "[1] Standard Errors assume that the covariance matrix of the errors is correctly specified.\n",
       "[2] The smallest eigenvalue is 2.35e-30. This might indicate that there are\n",
       "strong multicollinearity problems or that the design matrix is singular.\n",
       "\"\"\""
      ]
     },
     "execution_count": 37,
     "metadata": {},
     "output_type": "execute_result"
    }
   ],
   "source": [
    "Lm_multi.summary()"
   ]
  },
  {
   "cell_type": "code",
   "execution_count": 38,
   "id": "7d614a81-845f-4d02-9ffa-0a48a1278381",
   "metadata": {},
   "outputs": [],
   "source": [
    "Lm3= LinearRegression()"
   ]
  },
  {
   "cell_type": "code",
   "execution_count": 39,
   "id": "e8b2ca82-fe4b-46dd-a0b3-d81f8a26b198",
   "metadata": {},
   "outputs": [
    {
     "data": {
      "text/html": [
       "<style>#sk-container-id-1 {color: black;background-color: white;}#sk-container-id-1 pre{padding: 0;}#sk-container-id-1 div.sk-toggleable {background-color: white;}#sk-container-id-1 label.sk-toggleable__label {cursor: pointer;display: block;width: 100%;margin-bottom: 0;padding: 0.3em;box-sizing: border-box;text-align: center;}#sk-container-id-1 label.sk-toggleable__label-arrow:before {content: \"▸\";float: left;margin-right: 0.25em;color: #696969;}#sk-container-id-1 label.sk-toggleable__label-arrow:hover:before {color: black;}#sk-container-id-1 div.sk-estimator:hover label.sk-toggleable__label-arrow:before {color: black;}#sk-container-id-1 div.sk-toggleable__content {max-height: 0;max-width: 0;overflow: hidden;text-align: left;background-color: #f0f8ff;}#sk-container-id-1 div.sk-toggleable__content pre {margin: 0.2em;color: black;border-radius: 0.25em;background-color: #f0f8ff;}#sk-container-id-1 input.sk-toggleable__control:checked~div.sk-toggleable__content {max-height: 200px;max-width: 100%;overflow: auto;}#sk-container-id-1 input.sk-toggleable__control:checked~label.sk-toggleable__label-arrow:before {content: \"▾\";}#sk-container-id-1 div.sk-estimator input.sk-toggleable__control:checked~label.sk-toggleable__label {background-color: #d4ebff;}#sk-container-id-1 div.sk-label input.sk-toggleable__control:checked~label.sk-toggleable__label {background-color: #d4ebff;}#sk-container-id-1 input.sk-hidden--visually {border: 0;clip: rect(1px 1px 1px 1px);clip: rect(1px, 1px, 1px, 1px);height: 1px;margin: -1px;overflow: hidden;padding: 0;position: absolute;width: 1px;}#sk-container-id-1 div.sk-estimator {font-family: monospace;background-color: #f0f8ff;border: 1px dotted black;border-radius: 0.25em;box-sizing: border-box;margin-bottom: 0.5em;}#sk-container-id-1 div.sk-estimator:hover {background-color: #d4ebff;}#sk-container-id-1 div.sk-parallel-item::after {content: \"\";width: 100%;border-bottom: 1px solid gray;flex-grow: 1;}#sk-container-id-1 div.sk-label:hover label.sk-toggleable__label {background-color: #d4ebff;}#sk-container-id-1 div.sk-serial::before {content: \"\";position: absolute;border-left: 1px solid gray;box-sizing: border-box;top: 0;bottom: 0;left: 50%;z-index: 0;}#sk-container-id-1 div.sk-serial {display: flex;flex-direction: column;align-items: center;background-color: white;padding-right: 0.2em;padding-left: 0.2em;position: relative;}#sk-container-id-1 div.sk-item {position: relative;z-index: 1;}#sk-container-id-1 div.sk-parallel {display: flex;align-items: stretch;justify-content: center;background-color: white;position: relative;}#sk-container-id-1 div.sk-item::before, #sk-container-id-1 div.sk-parallel-item::before {content: \"\";position: absolute;border-left: 1px solid gray;box-sizing: border-box;top: 0;bottom: 0;left: 50%;z-index: -1;}#sk-container-id-1 div.sk-parallel-item {display: flex;flex-direction: column;z-index: 1;position: relative;background-color: white;}#sk-container-id-1 div.sk-parallel-item:first-child::after {align-self: flex-end;width: 50%;}#sk-container-id-1 div.sk-parallel-item:last-child::after {align-self: flex-start;width: 50%;}#sk-container-id-1 div.sk-parallel-item:only-child::after {width: 0;}#sk-container-id-1 div.sk-dashed-wrapped {border: 1px dashed gray;margin: 0 0.4em 0.5em 0.4em;box-sizing: border-box;padding-bottom: 0.4em;background-color: white;}#sk-container-id-1 div.sk-label label {font-family: monospace;font-weight: bold;display: inline-block;line-height: 1.2em;}#sk-container-id-1 div.sk-label-container {text-align: center;}#sk-container-id-1 div.sk-container {/* jupyter's `normalize.less` sets `[hidden] { display: none; }` but bootstrap.min.css set `[hidden] { display: none !important; }` so we also need the `!important` here to be able to override the default hidden behavior on the sphinx rendered scikit-learn.org. See: https://github.com/scikit-learn/scikit-learn/issues/21755 */display: inline-block !important;position: relative;}#sk-container-id-1 div.sk-text-repr-fallback {display: none;}</style><div id=\"sk-container-id-1\" class=\"sk-top-container\"><div class=\"sk-text-repr-fallback\"><pre>LinearRegression()</pre><b>In a Jupyter environment, please rerun this cell to show the HTML representation or trust the notebook. <br />On GitHub, the HTML representation is unable to render, please try loading this page with nbviewer.org.</b></div><div class=\"sk-container\" hidden><div class=\"sk-item\"><div class=\"sk-estimator sk-toggleable\"><input class=\"sk-toggleable__control sk-hidden--visually\" id=\"sk-estimator-id-1\" type=\"checkbox\" checked><label for=\"sk-estimator-id-1\" class=\"sk-toggleable__label sk-toggleable__label-arrow\">LinearRegression</label><div class=\"sk-toggleable__content\"><pre>LinearRegression()</pre></div></div></div></div></div>"
      ],
      "text/plain": [
       "LinearRegression()"
      ]
     },
     "execution_count": 39,
     "metadata": {},
     "output_type": "execute_result"
    }
   ],
   "source": [
    "Lm3.fit(x_multi,y_multi)"
   ]
  },
  {
   "cell_type": "code",
   "execution_count": 40,
   "id": "bc8d7c60-3409-4916-8414-dae1ea071e0c",
   "metadata": {},
   "outputs": [
    {
     "name": "stdout",
     "output_type": "stream",
     "text": [
      "74.10049772698645 [-0.03150474 -0.43886224 -0.26422655 -0.26422655 -0.29011614  0.20693703\n",
      "  0.7039902 ]\n"
     ]
    }
   ],
   "source": [
    "print(Lm3.intercept_,Lm3.coef_)"
   ]
  },
  {
   "cell_type": "code",
   "execution_count": 41,
   "id": "dfc541e1-be6a-4941-84d2-dad0b9a0a9f5",
   "metadata": {},
   "outputs": [],
   "source": [
    "X_train, X_test, y_train, y_test = train_test_split(x_multi, y_multi, test_size=0.2, random_state=0)"
   ]
  },
  {
   "cell_type": "code",
   "execution_count": 42,
   "id": "a27ba78b-078b-4f25-ae1c-046d5f827786",
   "metadata": {},
   "outputs": [
    {
     "name": "stdout",
     "output_type": "stream",
     "text": [
      "Predictions: [39.68555154 40.27401937 40.2416761  39.74754281 40.         39.68555154\n",
      " 40.27401937 40.2416761  39.74754281 40.         30.37338508 29.96298492\n",
      " 29.55258477 29.92201678 30.2914488 ]\n"
     ]
    }
   ],
   "source": [
    "pred=Lm3.predict(x_multi)\n",
    "print(\"Predictions:\", pred)"
   ]
  },
  {
   "cell_type": "code",
   "execution_count": 43,
   "id": "746a5491-37a5-49c7-abe0-e46ebfa1c15d",
   "metadata": {},
   "outputs": [
    {
     "data": {
      "image/png": "[encoded data removed]",
      "text/plain": [
       "<Figure size 640x480 with 1 Axes>"
      ]
     },
     "metadata": {},
     "output_type": "display_data"
    }
   ],
   "source": [
    "import matplotlib.pyplot as plt\n",
    "\n",
    "# Comparaison des valeurs réelles et prédites\n",
    "plt.scatter(y_multi, pred)\n",
    "plt.xlabel('Valeurs réelles')\n",
    "plt.ylabel('Valeurs prédites')\n",
    "plt.title('Comparaison des Valeurs Réelles et Predit')\n",
    "plt.show()\n"
   ]
  },
  {
   "cell_type": "code",
   "execution_count": 44,
   "id": "17e31944-02c5-487e-a244-d6b8abea13d2",
   "metadata": {},
   "outputs": [
    {
     "name": "stdout",
     "output_type": "stream",
     "text": [
      "(12, 7) (3, 7) (12,) (3,)\n"
     ]
    }
   ],
   "source": [
    "print( X_train.shape, X_test.shape, y_train.shape, y_test.shape)"
   ]
  },
  {
   "cell_type": "code",
   "execution_count": 45,
   "id": "54e6129a-3879-4c85-8b8f-fa65ae5f6af8",
   "metadata": {},
   "outputs": [],
   "source": [
    "Lm_a= LinearRegression()"
   ]
  },
  {
   "cell_type": "code",
   "execution_count": 46,
   "id": "1b36a282-67ab-4d94-91db-b3cf08b58088",
   "metadata": {},
   "outputs": [
    {
     "data": {
      "text/html": [
       "<style>#sk-container-id-2 {color: black;background-color: white;}#sk-container-id-2 pre{padding: 0;}#sk-container-id-2 div.sk-toggleable {background-color: white;}#sk-container-id-2 label.sk-toggleable__label {cursor: pointer;display: block;width: 100%;margin-bottom: 0;padding: 0.3em;box-sizing: border-box;text-align: center;}#sk-container-id-2 label.sk-toggleable__label-arrow:before {content: \"▸\";float: left;margin-right: 0.25em;color: #696969;}#sk-container-id-2 label.sk-toggleable__label-arrow:hover:before {color: black;}#sk-container-id-2 div.sk-estimator:hover label.sk-toggleable__label-arrow:before {color: black;}#sk-container-id-2 div.sk-toggleable__content {max-height: 0;max-width: 0;overflow: hidden;text-align: left;background-color: #f0f8ff;}#sk-container-id-2 div.sk-toggleable__content pre {margin: 0.2em;color: black;border-radius: 0.25em;background-color: #f0f8ff;}#sk-container-id-2 input.sk-toggleable__control:checked~div.sk-toggleable__content {max-height: 200px;max-width: 100%;overflow: auto;}#sk-container-id-2 input.sk-toggleable__control:checked~label.sk-toggleable__label-arrow:before {content: \"▾\";}#sk-container-id-2 div.sk-estimator input.sk-toggleable__control:checked~label.sk-toggleable__label {background-color: #d4ebff;}#sk-container-id-2 div.sk-label input.sk-toggleable__control:checked~label.sk-toggleable__label {background-color: #d4ebff;}#sk-container-id-2 input.sk-hidden--visually {border: 0;clip: rect(1px 1px 1px 1px);clip: rect(1px, 1px, 1px, 1px);height: 1px;margin: -1px;overflow: hidden;padding: 0;position: absolute;width: 1px;}#sk-container-id-2 div.sk-estimator {font-family: monospace;background-color: #f0f8ff;border: 1px dotted black;border-radius: 0.25em;box-sizing: border-box;margin-bottom: 0.5em;}#sk-container-id-2 div.sk-estimator:hover {background-color: #d4ebff;}#sk-container-id-2 div.sk-parallel-item::after {content: \"\";width: 100%;border-bottom: 1px solid gray;flex-grow: 1;}#sk-container-id-2 div.sk-label:hover label.sk-toggleable__label {background-color: #d4ebff;}#sk-container-id-2 div.sk-serial::before {content: \"\";position: absolute;border-left: 1px solid gray;box-sizing: border-box;top: 0;bottom: 0;left: 50%;z-index: 0;}#sk-container-id-2 div.sk-serial {display: flex;flex-direction: column;align-items: center;background-color: white;padding-right: 0.2em;padding-left: 0.2em;position: relative;}#sk-container-id-2 div.sk-item {position: relative;z-index: 1;}#sk-container-id-2 div.sk-parallel {display: flex;align-items: stretch;justify-content: center;background-color: white;position: relative;}#sk-container-id-2 div.sk-item::before, #sk-container-id-2 div.sk-parallel-item::before {content: \"\";position: absolute;border-left: 1px solid gray;box-sizing: border-box;top: 0;bottom: 0;left: 50%;z-index: -1;}#sk-container-id-2 div.sk-parallel-item {display: flex;flex-direction: column;z-index: 1;position: relative;background-color: white;}#sk-container-id-2 div.sk-parallel-item:first-child::after {align-self: flex-end;width: 50%;}#sk-container-id-2 div.sk-parallel-item:last-child::after {align-self: flex-start;width: 50%;}#sk-container-id-2 div.sk-parallel-item:only-child::after {width: 0;}#sk-container-id-2 div.sk-dashed-wrapped {border: 1px dashed gray;margin: 0 0.4em 0.5em 0.4em;box-sizing: border-box;padding-bottom: 0.4em;background-color: white;}#sk-container-id-2 div.sk-label label {font-family: monospace;font-weight: bold;display: inline-block;line-height: 1.2em;}#sk-container-id-2 div.sk-label-container {text-align: center;}#sk-container-id-2 div.sk-container {/* jupyter's `normalize.less` sets `[hidden] { display: none; }` but bootstrap.min.css set `[hidden] { display: none !important; }` so we also need the `!important` here to be able to override the default hidden behavior on the sphinx rendered scikit-learn.org. See: https://github.com/scikit-learn/scikit-learn/issues/21755 */display: inline-block !important;position: relative;}#sk-container-id-2 div.sk-text-repr-fallback {display: none;}</style><div id=\"sk-container-id-2\" class=\"sk-top-container\"><div class=\"sk-text-repr-fallback\"><pre>LinearRegression()</pre><b>In a Jupyter environment, please rerun this cell to show the HTML representation or trust the notebook. <br />On GitHub, the HTML representation is unable to render, please try loading this page with nbviewer.org.</b></div><div class=\"sk-container\" hidden><div class=\"sk-item\"><div class=\"sk-estimator sk-toggleable\"><input class=\"sk-toggleable__control sk-hidden--visually\" id=\"sk-estimator-id-2\" type=\"checkbox\" checked><label for=\"sk-estimator-id-2\" class=\"sk-toggleable__label sk-toggleable__label-arrow\">LinearRegression</label><div class=\"sk-toggleable__content\"><pre>LinearRegression()</pre></div></div></div></div></div>"
      ],
      "text/plain": [
       "LinearRegression()"
      ]
     },
     "execution_count": 46,
     "metadata": {},
     "output_type": "execute_result"
    }
   ],
   "source": [
    "Lm_a.fit(X_train,y_train)"
   ]
  },
  {
   "cell_type": "code",
   "execution_count": 47,
   "id": "a8e10dde-08d8-48b3-93e7-2a02c407a02b",
   "metadata": {},
   "outputs": [],
   "source": [
    "y_test_a=Lm_a.predict(X_test)"
   ]
  },
  {
   "cell_type": "code",
   "execution_count": 48,
   "id": "25fd9b3d-a3e3-4fc3-a265-314ecd4607f9",
   "metadata": {},
   "outputs": [],
   "source": [
    "Y_train_a=Lm_a.predict(X_train)"
   ]
  },
  {
   "cell_type": "code",
   "execution_count": 49,
   "id": "3c0453b2-123b-4905-85d2-a0500742a353",
   "metadata": {},
   "outputs": [],
   "source": [
    "from sklearn.metrics import r2_score"
   ]
  },
  {
   "cell_type": "code",
   "execution_count": 50,
   "id": "addc5bda-6274-4a53-98d4-37f9e62c8968",
   "metadata": {},
   "outputs": [
    {
     "data": {
      "text/plain": [
       "0.0"
      ]
     },
     "execution_count": 50,
     "metadata": {},
     "output_type": "execute_result"
    }
   ],
   "source": [
    "r2_score(y_test,y_test_a)"
   ]
  },
  {
   "cell_type": "code",
   "execution_count": 51,
   "id": "5887ee79-dea3-48c7-bd5d-48b881957d5d",
   "metadata": {},
   "outputs": [
    {
     "data": {
      "text/plain": [
       "0.997612652939421"
      ]
     },
     "execution_count": 51,
     "metadata": {},
     "output_type": "execute_result"
    }
   ],
   "source": [
    "r2_score(y_train,Y_train_a)"
   ]
  },
  {
   "cell_type": "code",
   "execution_count": 52,
   "id": "cbbc4415-d46d-461b-882c-29140587bf2e",
   "metadata": {},
   "outputs": [
    {
     "name": "stdout",
     "output_type": "stream",
     "text": [
      "Index(['Time (hours)', 'Humidity Level 1 (%)', 'Humidity Level 2 (%)',\n",
      "       'Humidity Level 3 (%)', 'Temperature Level 1 (Â°C)',\n",
      "       'Temperature Level 2 (Â°C)', 'Temperature Level 3 (Â°C)',\n",
      "       'Water Quantity (L)'],\n",
      "      dtype='object')\n"
     ]
    }
   ],
   "source": [
    "print(df.columns)\n"
   ]
  },
  {
   "cell_type": "code",
   "execution_count": 53,
   "id": "58596644-59d6-4d3b-8e10-9e62621b4814",
   "metadata": {},
   "outputs": [],
   "source": [
    "from sklearn import preprocessing"
   ]
  },
  {
   "cell_type": "code",
   "execution_count": 54,
   "id": "94fcff75-23ae-45e2-92ba-432fca979ff1",
   "metadata": {},
   "outputs": [],
   "source": [
    "scaler = preprocessing.StandardScaler().fit(X_train)"
   ]
  },
  {
   "cell_type": "code",
   "execution_count": 55,
   "id": "98b69dc9-fa3d-4b40-a854-a6d43131e6fe",
   "metadata": {},
   "outputs": [],
   "source": [
    "X_train_s= scaler.transform(X_train)"
   ]
  },
  {
   "cell_type": "code",
   "execution_count": 56,
   "id": "19ac5c45-eb57-4cab-9220-1b8f969aaf2f",
   "metadata": {},
   "outputs": [],
   "source": [
    "X_test_s= scaler.transform(X_test)"
   ]
  },
  {
   "cell_type": "code",
   "execution_count": 57,
   "id": "74172db6-8101-4c1b-bbf6-02d348e23648",
   "metadata": {},
   "outputs": [],
   "source": [
    "from sklearn.linear_model import Ridge   #on va maintenant utiliser Ridge "
   ]
  },
  {
   "cell_type": "code",
   "execution_count": 58,
   "id": "3870c702-f0d6-41a5-bb2d-d0e85b6306c7",
   "metadata": {},
   "outputs": [
    {
     "data": {
      "text/html": [
       "<style>#sk-container-id-3 {color: black;background-color: white;}#sk-container-id-3 pre{padding: 0;}#sk-container-id-3 div.sk-toggleable {background-color: white;}#sk-container-id-3 label.sk-toggleable__label {cursor: pointer;display: block;width: 100%;margin-bottom: 0;padding: 0.3em;box-sizing: border-box;text-align: center;}#sk-container-id-3 label.sk-toggleable__label-arrow:before {content: \"▸\";float: left;margin-right: 0.25em;color: #696969;}#sk-container-id-3 label.sk-toggleable__label-arrow:hover:before {color: black;}#sk-container-id-3 div.sk-estimator:hover label.sk-toggleable__label-arrow:before {color: black;}#sk-container-id-3 div.sk-toggleable__content {max-height: 0;max-width: 0;overflow: hidden;text-align: left;background-color: #f0f8ff;}#sk-container-id-3 div.sk-toggleable__content pre {margin: 0.2em;color: black;border-radius: 0.25em;background-color: #f0f8ff;}#sk-container-id-3 input.sk-toggleable__control:checked~div.sk-toggleable__content {max-height: 200px;max-width: 100%;overflow: auto;}#sk-container-id-3 input.sk-toggleable__control:checked~label.sk-toggleable__label-arrow:before {content: \"▾\";}#sk-container-id-3 div.sk-estimator input.sk-toggleable__control:checked~label.sk-toggleable__label {background-color: #d4ebff;}#sk-container-id-3 div.sk-label input.sk-toggleable__control:checked~label.sk-toggleable__label {background-color: #d4ebff;}#sk-container-id-3 input.sk-hidden--visually {border: 0;clip: rect(1px 1px 1px 1px);clip: rect(1px, 1px, 1px, 1px);height: 1px;margin: -1px;overflow: hidden;padding: 0;position: absolute;width: 1px;}#sk-container-id-3 div.sk-estimator {font-family: monospace;background-color: #f0f8ff;border: 1px dotted black;border-radius: 0.25em;box-sizing: border-box;margin-bottom: 0.5em;}#sk-container-id-3 div.sk-estimator:hover {background-color: #d4ebff;}#sk-container-id-3 div.sk-parallel-item::after {content: \"\";width: 100%;border-bottom: 1px solid gray;flex-grow: 1;}#sk-container-id-3 div.sk-label:hover label.sk-toggleable__label {background-color: #d4ebff;}#sk-container-id-3 div.sk-serial::before {content: \"\";position: absolute;border-left: 1px solid gray;box-sizing: border-box;top: 0;bottom: 0;left: 50%;z-index: 0;}#sk-container-id-3 div.sk-serial {display: flex;flex-direction: column;align-items: center;background-color: white;padding-right: 0.2em;padding-left: 0.2em;position: relative;}#sk-container-id-3 div.sk-item {position: relative;z-index: 1;}#sk-container-id-3 div.sk-parallel {display: flex;align-items: stretch;justify-content: center;background-color: white;position: relative;}#sk-container-id-3 div.sk-item::before, #sk-container-id-3 div.sk-parallel-item::before {content: \"\";position: absolute;border-left: 1px solid gray;box-sizing: border-box;top: 0;bottom: 0;left: 50%;z-index: -1;}#sk-container-id-3 div.sk-parallel-item {display: flex;flex-direction: column;z-index: 1;position: relative;background-color: white;}#sk-container-id-3 div.sk-parallel-item:first-child::after {align-self: flex-end;width: 50%;}#sk-container-id-3 div.sk-parallel-item:last-child::after {align-self: flex-start;width: 50%;}#sk-container-id-3 div.sk-parallel-item:only-child::after {width: 0;}#sk-container-id-3 div.sk-dashed-wrapped {border: 1px dashed gray;margin: 0 0.4em 0.5em 0.4em;box-sizing: border-box;padding-bottom: 0.4em;background-color: white;}#sk-container-id-3 div.sk-label label {font-family: monospace;font-weight: bold;display: inline-block;line-height: 1.2em;}#sk-container-id-3 div.sk-label-container {text-align: center;}#sk-container-id-3 div.sk-container {/* jupyter's `normalize.less` sets `[hidden] { display: none; }` but bootstrap.min.css set `[hidden] { display: none !important; }` so we also need the `!important` here to be able to override the default hidden behavior on the sphinx rendered scikit-learn.org. See: https://github.com/scikit-learn/scikit-learn/issues/21755 */display: inline-block !important;position: relative;}#sk-container-id-3 div.sk-text-repr-fallback {display: none;}</style><div id=\"sk-container-id-3\" class=\"sk-top-container\"><div class=\"sk-text-repr-fallback\"><pre>Ridge(alpha=0.5)</pre><b>In a Jupyter environment, please rerun this cell to show the HTML representation or trust the notebook. <br />On GitHub, the HTML representation is unable to render, please try loading this page with nbviewer.org.</b></div><div class=\"sk-container\" hidden><div class=\"sk-item\"><div class=\"sk-estimator sk-toggleable\"><input class=\"sk-toggleable__control sk-hidden--visually\" id=\"sk-estimator-id-3\" type=\"checkbox\" checked><label for=\"sk-estimator-id-3\" class=\"sk-toggleable__label sk-toggleable__label-arrow\">Ridge</label><div class=\"sk-toggleable__content\"><pre>Ridge(alpha=0.5)</pre></div></div></div></div></div>"
      ],
      "text/plain": [
       "Ridge(alpha=0.5)"
      ]
     },
     "execution_count": 58,
     "metadata": {},
     "output_type": "execute_result"
    }
   ],
   "source": [
    "Lm_r= Ridge(alpha=0.5)\n",
    "Lm_r.fit(X_train_s,y_train)"
   ]
  },
  {
   "cell_type": "code",
   "execution_count": 59,
   "id": "590a276a-f302-4339-96d2-28ce321b763e",
   "metadata": {},
   "outputs": [
    {
     "data": {
      "text/plain": [
       "0.0"
      ]
     },
     "execution_count": 59,
     "metadata": {},
     "output_type": "execute_result"
    }
   ],
   "source": [
    "r2_score(y_test,Lm_r.predict(X_test_s))"
   ]
  },
  {
   "cell_type": "code",
   "execution_count": 60,
   "id": "69a2b867-9f78-499d-9209-4bd4327a4626",
   "metadata": {},
   "outputs": [],
   "source": [
    "from sklearn.model_selection import validation_curve"
   ]
  },
  {
   "cell_type": "code",
   "execution_count": 61,
   "id": "447290fc-6e96-4c2c-867c-cb77e05674b2",
   "metadata": {},
   "outputs": [
    {
     "data": {
      "text/plain": [
       "\u001b[1;31mSignature:\u001b[0m\n",
       "\u001b[0mvalidation_curve\u001b[0m\u001b[1;33m(\u001b[0m\u001b[1;33m\n",
       "\u001b[0m    \u001b[0mestimator\u001b[0m\u001b[1;33m,\u001b[0m\u001b[1;33m\n",
       "\u001b[0m    \u001b[0mX\u001b[0m\u001b[1;33m,\u001b[0m\u001b[1;33m\n",
       "\u001b[0m    \u001b[0my\u001b[0m\u001b[1;33m,\u001b[0m\u001b[1;33m\n",
       "\u001b[0m    \u001b[1;33m*\u001b[0m\u001b[1;33m,\u001b[0m\u001b[1;33m\n",
       "\u001b[0m    \u001b[0mparam_name\u001b[0m\u001b[1;33m,\u001b[0m\u001b[1;33m\n",
       "\u001b[0m    \u001b[0mparam_range\u001b[0m\u001b[1;33m,\u001b[0m\u001b[1;33m\n",
       "\u001b[0m    \u001b[0mgroups\u001b[0m\u001b[1;33m=\u001b[0m\u001b[1;32mNone\u001b[0m\u001b[1;33m,\u001b[0m\u001b[1;33m\n",
       "\u001b[0m    \u001b[0mcv\u001b[0m\u001b[1;33m=\u001b[0m\u001b[1;32mNone\u001b[0m\u001b[1;33m,\u001b[0m\u001b[1;33m\n",
       "\u001b[0m    \u001b[0mscoring\u001b[0m\u001b[1;33m=\u001b[0m\u001b[1;32mNone\u001b[0m\u001b[1;33m,\u001b[0m\u001b[1;33m\n",
       "\u001b[0m    \u001b[0mn_jobs\u001b[0m\u001b[1;33m=\u001b[0m\u001b[1;32mNone\u001b[0m\u001b[1;33m,\u001b[0m\u001b[1;33m\n",
       "\u001b[0m    \u001b[0mpre_dispatch\u001b[0m\u001b[1;33m=\u001b[0m\u001b[1;34m'all'\u001b[0m\u001b[1;33m,\u001b[0m\u001b[1;33m\n",
       "\u001b[0m    \u001b[0mverbose\u001b[0m\u001b[1;33m=\u001b[0m\u001b[1;36m0\u001b[0m\u001b[1;33m,\u001b[0m\u001b[1;33m\n",
       "\u001b[0m    \u001b[0merror_score\u001b[0m\u001b[1;33m=\u001b[0m\u001b[0mnan\u001b[0m\u001b[1;33m,\u001b[0m\u001b[1;33m\n",
       "\u001b[0m    \u001b[0mfit_params\u001b[0m\u001b[1;33m=\u001b[0m\u001b[1;32mNone\u001b[0m\u001b[1;33m,\u001b[0m\u001b[1;33m\n",
       "\u001b[0m\u001b[1;33m)\u001b[0m\u001b[1;33m\u001b[0m\u001b[1;33m\u001b[0m\u001b[0m\n",
       "\u001b[1;31mDocstring:\u001b[0m\n",
       "Validation curve.\n",
       "\n",
       "Determine training and test scores for varying parameter values.\n",
       "\n",
       "Compute scores for an estimator with different values of a specified\n",
       "parameter. This is similar to grid search with one parameter. However, this\n",
       "will also compute training scores and is merely a utility for plotting the\n",
       "results.\n",
       "\n",
       "Read more in the :ref:`User Guide <validation_curve>`.\n",
       "\n",
       "Parameters\n",
       "----------\n",
       "estimator : object type that implements the \"fit\" and \"predict\" methods\n",
       "    An object of that type which is cloned for each validation.\n",
       "\n",
       "X : array-like of shape (n_samples, n_features)\n",
       "    Training vector, where `n_samples` is the number of samples and\n",
       "    `n_features` is the number of features.\n",
       "\n",
       "y : array-like of shape (n_samples,) or (n_samples, n_outputs) or None\n",
       "    Target relative to X for classification or regression;\n",
       "    None for unsupervised learning.\n",
       "\n",
       "param_name : str\n",
       "    Name of the parameter that will be varied.\n",
       "\n",
       "param_range : array-like of shape (n_values,)\n",
       "    The values of the parameter that will be evaluated.\n",
       "\n",
       "groups : array-like of shape (n_samples,), default=None\n",
       "    Group labels for the samples used while splitting the dataset into\n",
       "    train/test set. Only used in conjunction with a \"Group\" :term:`cv`\n",
       "    instance (e.g., :class:`GroupKFold`).\n",
       "\n",
       "cv : int, cross-validation generator or an iterable, default=None\n",
       "    Determines the cross-validation splitting strategy.\n",
       "    Possible inputs for cv are:\n",
       "\n",
       "    - None, to use the default 5-fold cross validation,\n",
       "    - int, to specify the number of folds in a `(Stratified)KFold`,\n",
       "    - :term:`CV splitter`,\n",
       "    - An iterable yielding (train, test) splits as arrays of indices.\n",
       "\n",
       "    For int/None inputs, if the estimator is a classifier and ``y`` is\n",
       "    either binary or multiclass, :class:`StratifiedKFold` is used. In all\n",
       "    other cases, :class:`KFold` is used. These splitters are instantiated\n",
       "    with `shuffle=False` so the splits will be the same across calls.\n",
       "\n",
       "    Refer :ref:`User Guide <cross_validation>` for the various\n",
       "    cross-validation strategies that can be used here.\n",
       "\n",
       "    .. versionchanged:: 0.22\n",
       "        ``cv`` default value if None changed from 3-fold to 5-fold.\n",
       "\n",
       "scoring : str or callable, default=None\n",
       "    A str (see model evaluation documentation) or\n",
       "    a scorer callable object / function with signature\n",
       "    ``scorer(estimator, X, y)``.\n",
       "\n",
       "n_jobs : int, default=None\n",
       "    Number of jobs to run in parallel. Training the estimator and computing\n",
       "    the score are parallelized over the combinations of each parameter\n",
       "    value and each cross-validation split.\n",
       "    ``None`` means 1 unless in a :obj:`joblib.parallel_backend` context.\n",
       "    ``-1`` means using all processors. See :term:`Glossary <n_jobs>`\n",
       "    for more details.\n",
       "\n",
       "pre_dispatch : int or str, default='all'\n",
       "    Number of predispatched jobs for parallel execution (default is\n",
       "    all). The option can reduce the allocated memory. The str can\n",
       "    be an expression like '2*n_jobs'.\n",
       "\n",
       "verbose : int, default=0\n",
       "    Controls the verbosity: the higher, the more messages.\n",
       "\n",
       "error_score : 'raise' or numeric, default=np.nan\n",
       "    Value to assign to the score if an error occurs in estimator fitting.\n",
       "    If set to 'raise', the error is raised.\n",
       "    If a numeric value is given, FitFailedWarning is raised.\n",
       "\n",
       "    .. versionadded:: 0.20\n",
       "\n",
       "fit_params : dict, default=None\n",
       "    Parameters to pass to the fit method of the estimator.\n",
       "\n",
       "    .. versionadded:: 0.24\n",
       "\n",
       "Returns\n",
       "-------\n",
       "train_scores : array of shape (n_ticks, n_cv_folds)\n",
       "    Scores on training sets.\n",
       "\n",
       "test_scores : array of shape (n_ticks, n_cv_folds)\n",
       "    Scores on test set.\n",
       "\n",
       "Notes\n",
       "-----\n",
       "See :ref:`sphx_glr_auto_examples_model_selection_plot_validation_curve.py`\n",
       "\u001b[1;31mFile:\u001b[0m      c:\\users\\souha\\anaconda3\\lib\\site-packages\\sklearn\\model_selection\\_validation.py\n",
       "\u001b[1;31mType:\u001b[0m      function"
      ]
     },
     "metadata": {},
     "output_type": "display_data"
    }
   ],
   "source": [
    "validation_curve?"
   ]
  },
  {
   "cell_type": "code",
   "execution_count": 62,
   "id": "da9c691f-29ad-48a1-a5ca-dad7b491ae3d",
   "metadata": {},
   "outputs": [],
   "source": [
    "# we will be choosing the best lambda value form our model\n",
    "param_range = np.logspace(-2,8,100) #will create hundred values between 10exp-2 and 10exp 8 \n"
   ]
  },
  {
   "cell_type": "code",
   "execution_count": 63,
   "id": "c5c045f9-cd89-489b-b5ce-dd2c49946f2f",
   "metadata": {},
   "outputs": [
    {
     "data": {
      "text/plain": [
       "array([1.00000000e-02, 1.26185688e-02, 1.59228279e-02, 2.00923300e-02,\n",
       "       2.53536449e-02, 3.19926714e-02, 4.03701726e-02, 5.09413801e-02,\n",
       "       6.42807312e-02, 8.11130831e-02, 1.02353102e-01, 1.29154967e-01,\n",
       "       1.62975083e-01, 2.05651231e-01, 2.59502421e-01, 3.27454916e-01,\n",
       "       4.13201240e-01, 5.21400829e-01, 6.57933225e-01, 8.30217568e-01,\n",
       "       1.04761575e+00, 1.32194115e+00, 1.66810054e+00, 2.10490414e+00,\n",
       "       2.65608778e+00, 3.35160265e+00, 4.22924287e+00, 5.33669923e+00,\n",
       "       6.73415066e+00, 8.49753436e+00, 1.07226722e+01, 1.35304777e+01,\n",
       "       1.70735265e+01, 2.15443469e+01, 2.71858824e+01, 3.43046929e+01,\n",
       "       4.32876128e+01, 5.46227722e+01, 6.89261210e+01, 8.69749003e+01,\n",
       "       1.09749877e+02, 1.38488637e+02, 1.74752840e+02, 2.20513074e+02,\n",
       "       2.78255940e+02, 3.51119173e+02, 4.43062146e+02, 5.59081018e+02,\n",
       "       7.05480231e+02, 8.90215085e+02, 1.12332403e+03, 1.41747416e+03,\n",
       "       1.78864953e+03, 2.25701972e+03, 2.84803587e+03, 3.59381366e+03,\n",
       "       4.53487851e+03, 5.72236766e+03, 7.22080902e+03, 9.11162756e+03,\n",
       "       1.14975700e+04, 1.45082878e+04, 1.83073828e+04, 2.31012970e+04,\n",
       "       2.91505306e+04, 3.67837977e+04, 4.64158883e+04, 5.85702082e+04,\n",
       "       7.39072203e+04, 9.32603347e+04, 1.17681195e+05, 1.48496826e+05,\n",
       "       1.87381742e+05, 2.36448941e+05, 2.98364724e+05, 3.76493581e+05,\n",
       "       4.75081016e+05, 5.99484250e+05, 7.56463328e+05, 9.54548457e+05,\n",
       "       1.20450354e+06, 1.51991108e+06, 1.91791026e+06, 2.42012826e+06,\n",
       "       3.05385551e+06, 3.85352859e+06, 4.86260158e+06, 6.13590727e+06,\n",
       "       7.74263683e+06, 9.77009957e+06, 1.23284674e+07, 1.55567614e+07,\n",
       "       1.96304065e+07, 2.47707636e+07, 3.12571585e+07, 3.94420606e+07,\n",
       "       4.97702356e+07, 6.28029144e+07, 7.92482898e+07, 1.00000000e+08])"
      ]
     },
     "execution_count": 63,
     "metadata": {},
     "output_type": "execute_result"
    }
   ],
   "source": [
    "param_range"
   ]
  },
  {
   "cell_type": "code",
   "execution_count": 64,
   "id": "5c223594-8ce4-439f-8a63-78180f8bafc9",
   "metadata": {},
   "outputs": [],
   "source": [
    "train_scores, test_scores = validation_curve(\n",
    "    Ridge(),                # The model\n",
    "    X_train_s,                # Features\n",
    "    y_train,                # Target\n",
    "    param_name=\"alpha\",     # The parameter to vary\n",
    "    param_range=param_range,  # The range of parameter values\n",
    "    scoring='r2'            # Scoring method\n",
    ")"
   ]
  },
  {
   "cell_type": "code",
   "execution_count": 65,
   "id": "10593de8-9998-48ee-804b-d391e5c53c55",
   "metadata": {},
   "outputs": [
    {
     "name": "stdout",
     "output_type": "stream",
     "text": [
      "[[9.97569773e-01 9.98170821e-01 9.97597544e-01 9.99105455e-01\n",
      "  9.98137344e-01]\n",
      " [9.97410964e-01 9.98086058e-01 9.97519542e-01 9.98850427e-01\n",
      "  9.98033247e-01]\n",
      " [9.97183337e-01 9.97955557e-01 9.97401293e-01 9.98545395e-01\n",
      "  9.97875587e-01]\n",
      " [9.96864278e-01 9.97756204e-01 9.97223490e-01 9.98179753e-01\n",
      "  9.97639160e-01]\n",
      " [9.96428443e-01 9.97454587e-01 9.96958646e-01 9.97735340e-01\n",
      "  9.97288816e-01]\n",
      " [9.95850252e-01 9.97003558e-01 9.96568489e-01 9.97182802e-01\n",
      "  9.96777054e-01]\n",
      " [9.95107724e-01 9.96338613e-01 9.96001236e-01 9.96478047e-01\n",
      "  9.96042217e-01]\n",
      " [9.94187184e-01 9.95374840e-01 9.95189415e-01 9.95559530e-01\n",
      "  9.95008302e-01]\n",
      " [9.93087704e-01 9.94005837e-01 9.94049334e-01 9.94347344e-01\n",
      "  9.93587684e-01]\n",
      " [9.91823821e-01 9.92106451e-01 9.92483678e-01 9.92745403e-01\n",
      "  9.91687964e-01]\n",
      " [9.90425236e-01 9.89541380e-01 9.90388732e-01 9.90647980e-01\n",
      "  9.89223368e-01]\n",
      " [9.88933162e-01 9.86180843e-01 9.87666910e-01 9.87951248e-01\n",
      "  9.86129480e-01]\n",
      " [9.87394143e-01 9.81922548e-01 9.84243595e-01 9.84568952e-01\n",
      "  9.82378020e-01]\n",
      " [9.85853083e-01 9.76716058e-01 9.80084830e-01 9.80449247e-01\n",
      "  9.77986900e-01]\n",
      " [9.84347291e-01 9.70582842e-01 9.75210548e-01 9.75587902e-01\n",
      "  9.73021153e-01]\n",
      " [9.82902649e-01 9.63624390e-01 9.69697928e-01 9.70033015e-01\n",
      "  9.67583066e-01]\n",
      " [9.81531905e-01 9.56013340e-01 9.63672099e-01 9.63878711e-01\n",
      "  9.61793983e-01]\n",
      " [9.80234228e-01 9.47967800e-01 9.57285770e-01 9.57249353e-01\n",
      "  9.55773577e-01]\n",
      " [9.78994656e-01 9.39714504e-01 9.50693267e-01 9.50279289e-01\n",
      "  9.49622967e-01]\n",
      " [9.77782161e-01 9.31449091e-01 9.44025494e-01 9.43093919e-01\n",
      "  9.43415427e-01]\n",
      " [9.76545262e-01 9.23300504e-01 9.37370145e-01 9.35795407e-01\n",
      "  9.37194089e-01]\n",
      " [9.75204396e-01 9.15302622e-01 9.30757389e-01 9.28452219e-01\n",
      "  9.30972203e-01]\n",
      " [9.73640302e-01 9.07372288e-01 9.24147851e-01 9.21088586e-01\n",
      "  9.24730022e-01]\n",
      " [9.71677699e-01 8.99290946e-01 9.17418485e-01 9.13669432e-01\n",
      "  9.18403622e-01]\n",
      " [9.69063672e-01 8.90687718e-01 9.10343282e-01 9.06078305e-01\n",
      "  9.11863941e-01]\n",
      " [9.65440911e-01 8.81024619e-01 9.02568717e-01 8.98088829e-01\n",
      "  9.04887523e-01]\n",
      " [9.60317677e-01 8.69588925e-01 8.93587478e-01 8.89333023e-01\n",
      "  8.97122894e-01]\n",
      " [9.53039431e-01 8.55502571e-01 8.82718000e-01 8.79272216e-01\n",
      "  8.88058342e-01]\n",
      " [9.42771514e-01 8.37762006e-01 8.69101328e-01 8.67179030e-01\n",
      "  8.76999082e-01]\n",
      " [9.28507207e-01 8.15321436e-01 8.51730233e-01 8.52142371e-01\n",
      "  8.63065066e-01]\n",
      " [9.09118734e-01 7.87224572e-01 8.29525626e-01 8.33110372e-01\n",
      "  8.45224054e-01]\n",
      " [8.83466382e-01 7.52773827e-01 8.01468683e-01 8.08985569e-01\n",
      "  8.22375018e-01]\n",
      " [8.50569121e-01 7.11705089e-01 7.66781021e-01 7.78777853e-01\n",
      "  7.93490123e-01]\n",
      " [8.09817638e-01 6.64320595e-01 7.25121911e-01 7.41801687e-01\n",
      "  7.57806357e-01]\n",
      " [7.61183559e-01 6.11533136e-01 6.76750303e-01 6.97878389e-01\n",
      "  7.15032599e-01]\n",
      " [7.05360057e-01 5.54796640e-01 6.22594301e-01 6.47484042e-01\n",
      "  6.65515124e-01]\n",
      " [6.43774454e-01 4.95933378e-01 5.64190884e-01 5.91784026e-01\n",
      "  6.10299653e-01]\n",
      " [5.78448228e-01 4.36900219e-01 5.03499686e-01 5.32524434e-01\n",
      "  5.51051698e-01]\n",
      " [5.11731738e-01 3.79551078e-01 4.42637533e-01 4.71799133e-01\n",
      "  4.89843484e-01]\n",
      " [4.45984449e-01 3.25445993e-01 3.83603936e-01 4.11755299e-01\n",
      "  4.28863176e-01]\n",
      " [3.83284541e-01 2.75736105e-01 3.28062192e-01 3.54316864e-01\n",
      "  3.70125867e-01]\n",
      " [3.25231050e-01 2.31129184e-01 2.77213219e-01 3.00988847e-01\n",
      "  3.15255515e-01]\n",
      " [2.72862199e-01 1.91921264e-01 2.31766000e-01 2.52769101e-01\n",
      "  2.65372918e-01]\n",
      " [2.26676464e-01 1.58070453e-01 1.91983726e-01 2.10157950e-01\n",
      "  2.21086871e-01]\n",
      " [1.86721698e-01 1.29288365e-01 1.57774257e-01 1.73234626e-01\n",
      "  1.82560248e-01]\n",
      " [1.52714209e-01 1.05129969e-01 1.28795254e-01 1.41764732e-01\n",
      "  1.49614738e-01]\n",
      " [1.24157816e-01 8.50700592e-02 1.04552783e-01 1.15310008e-01\n",
      "  1.21843136e-01]\n",
      " [1.00445084e-01 6.85614260e-02 8.44819025e-02 9.33228405e-02\n",
      "  9.87090591e-02]\n",
      " [8.09337208e-02 5.50746843e-02 6.80056474e-02 7.52182959e-02\n",
      "  7.96247832e-02]\n",
      " [6.49983816e-02 4.41224469e-02 5.45738275e-02 6.04233988e-02\n",
      "  6.40057502e-02]\n",
      " [5.20618311e-02 3.52715240e-02 4.36854067e-02 4.84071278e-02\n",
      "  5.13046691e-02]\n",
      " [4.16106221e-02 2.81467737e-02 3.48988359e-02 3.86958149e-02\n",
      "  4.10298377e-02]\n",
      " [3.32001522e-02 2.24296336e-02 2.78342869e-02 3.08784680e-02\n",
      "  3.27523627e-02]\n",
      " [2.64530605e-02 1.78536203e-02 2.21709237e-02 2.46057260e-02\n",
      "  2.61062223e-02]\n",
      " [2.10538788e-02 1.41983903e-02 1.76414885e-02 1.95851952e-02\n",
      "  2.07841558e-02]\n",
      " [1.67419313e-02 1.12833914e-02 1.40257354e-02 1.55750560e-02\n",
      "  1.65314588e-02]\n",
      " [1.33037475e-02 8.96171931e-03 1.11436711e-02 1.23771467e-02\n",
      "  1.31390358e-02]\n",
      " [1.05657339e-02 7.11450901e-03 8.84915539e-03 9.83023903e-03\n",
      "  1.04365243e-02]\n",
      " [8.38749533e-03 5.64600157e-03 7.02413946e-03 7.80388549e-03\n",
      "  8.28593534e-03]\n",
      " [6.65597223e-03 4.47931765e-03 5.57364872e-03 6.19300400e-03\n",
      "  6.57601616e-03]\n",
      " [5.28042489e-03 3.55290253e-03 4.42151412e-03 4.91323646e-03\n",
      "  5.21739457e-03]\n",
      " [4.18822025e-03 2.81757696e-03 3.50680082e-03 3.89704481e-03\n",
      "  4.13848006e-03]\n",
      " [3.32134048e-03 2.23411557e-03 2.78085722e-03 3.09047268e-03\n",
      "  3.28205467e-03]\n",
      " [2.63351859e-03 1.77127414e-03 2.20489935e-03 2.45048675e-03\n",
      "  2.60246864e-03]\n",
      " [2.08790666e-03 1.40419205e-03 1.74804749e-03 1.94281114e-03\n",
      "  2.06335256e-03]\n",
      " [1.65518853e-03 1.11310459e-03 1.38573921e-03 1.54017396e-03\n",
      "  1.63576282e-03]\n",
      " [1.31205936e-03 8.82308876e-04 1.09845203e-03 1.22089416e-03\n",
      "  1.29668557e-03]\n",
      " [1.04000498e-03 6.99335654e-04 8.70678744e-04 9.67746734e-04\n",
      "  1.02783456e-03]\n",
      " [8.24324617e-04 5.54287535e-04 6.90107513e-04 7.67054036e-04\n",
      "  8.14687961e-04]\n",
      " [6.53350137e-04 4.39311127e-04 5.46967188e-04 6.07959688e-04\n",
      "  6.45718404e-04]\n",
      " [5.17823446e-04 3.48176540e-04 4.33505352e-04 4.81849468e-04\n",
      "  5.11778664e-04]\n",
      " [4.10400543e-04 2.75942788e-04 3.43572719e-04 3.81890009e-04\n",
      "  4.05612191e-04]\n",
      " [3.25256968e-04 2.18691770e-04 2.72292552e-04 3.02661743e-04\n",
      "  3.21463558e-04]\n",
      " [2.57774124e-04 1.73316918e-04 2.15797898e-04 2.39867095e-04\n",
      "  2.54768713e-04]\n",
      " [2.04290088e-04 1.37355361e-04 1.71022869e-04 1.90098635e-04\n",
      "  2.01908856e-04]\n",
      " [1.61901742e-04 1.08854705e-04 1.35536923e-04 1.50654982e-04\n",
      "  1.60014973e-04]\n",
      " [1.28307716e-04 8.62673332e-05 1.07413347e-04 1.19394678e-04\n",
      "  1.26812683e-04]\n",
      " [1.01683778e-04 6.83665424e-05 8.51249063e-05 9.46202387e-05\n",
      "  1.00499114e-04]\n",
      " [8.05839779e-05 5.41800418e-05 6.74610789e-05 7.49861758e-05\n",
      "  7.96452309e-05]\n",
      " [6.38622554e-05 4.29372126e-05 5.34624086e-05 5.94260500e-05\n",
      "  6.31183637e-05]\n",
      " [5.06102672e-05 3.40272931e-05 4.23684573e-05 4.70946233e-05\n",
      "  5.00207766e-05]\n",
      " [4.01080990e-05 2.69662277e-05 3.35765370e-05 3.73219944e-05\n",
      "  3.96409572e-05]\n",
      " [3.17851884e-05 2.13703873e-05 2.66089942e-05 2.95772375e-05\n",
      "  3.14149988e-05]\n",
      " [2.51893475e-05 1.69357374e-05 2.10872751e-05 2.34395775e-05\n",
      "  2.48959862e-05]\n",
      " [1.99622083e-05 1.34213268e-05 1.67113691e-05 1.85755413e-05\n",
      "  1.97297293e-05]\n",
      " [1.58197597e-05 1.06362000e-05 1.32435145e-05 1.47208472e-05\n",
      "  1.56355271e-05]\n",
      " [1.25369210e-05 8.42902415e-06 1.04952841e-05 1.16660500e-05\n",
      "  1.23909218e-05]\n",
      " [9.93531563e-06 6.67986852e-06 8.31734908e-06 9.24516421e-06\n",
      "  9.81961489e-06]\n",
      " [7.87358036e-06 5.29368850e-06 6.59136690e-06 7.32664651e-06\n",
      "  7.78189025e-06]\n",
      " [6.23968572e-06 4.19516196e-06 5.22355182e-06 5.80624958e-06\n",
      "  6.16702334e-06]\n",
      " [4.94484920e-06 3.32459684e-06 4.13957942e-06 4.60135822e-06\n",
      "  4.88726581e-06]\n",
      " [3.91871156e-06 2.63468786e-06 3.28054837e-06 3.64650067e-06\n",
      "  3.87307789e-06]\n",
      " [3.10551386e-06 2.08794615e-06 2.59978004e-06 2.88979128e-06\n",
      "  3.06935007e-06]\n",
      " [2.46106786e-06 1.65466229e-06 2.06028220e-06 2.29011134e-06\n",
      "  2.43240875e-06]\n",
      " [1.95035496e-06 1.31129199e-06 1.63273902e-06 1.81487481e-06\n",
      "  1.92764316e-06]\n",
      " [1.54562344e-06 1.03917675e-06 1.29391814e-06 1.43825771e-06\n",
      "  1.52762475e-06]\n",
      " [1.22488045e-06 8.23529968e-07 1.02540824e-06 1.13979493e-06\n",
      "  1.21061681e-06]\n",
      " [9.70697001e-07 6.52633522e-07 8.12618642e-07 9.03268170e-07\n",
      "  9.59393325e-07]\n",
      " [7.69260893e-07 5.17200972e-07 6.43986472e-07 7.15824692e-07\n",
      "  7.60302931e-07]\n",
      " [6.09626178e-07 4.09872967e-07 5.10348326e-07 5.67278899e-07\n",
      "  6.02527150e-07]]\n",
      "[[ 0.80576769  0.98746829  0.99373742  0.          0.99189456]\n",
      " [ 0.7928384   0.98749489  0.99331537  0.          0.99240937]\n",
      " [ 0.77685403  0.98748868  0.99276444  0.          0.99289104]\n",
      " [ 0.75729134  0.98742694  0.99204305  0.          0.99326841]\n",
      " [ 0.73366741  0.98727728  0.99109659  0.          0.99343572]\n",
      " [ 0.70562232  0.98699462  0.98985443  0.          0.99324423]\n",
      " [ 0.67302165  0.98651811  0.9882275   0.          0.99249614]\n",
      " [ 0.63606057  0.98576834  0.98610751  0.          0.99094438]\n",
      " [ 0.59533955  0.98464635  0.98336946  0.          0.98830327]\n",
      " [ 0.55187911  0.98303588  0.97987962  0.          0.98427484]\n",
      " [ 0.50705202  0.98081112  0.97551076  0.          0.97859258]\n",
      " [ 0.46243661  0.97785141  0.97016513  0.          0.97107855]\n",
      " [ 0.41962267  0.97406254  0.96380281  0.          0.96170119]\n",
      " [ 0.38001889  0.9694021   0.95646971  0.          0.95061494]\n",
      " [ 0.34470837  0.96390299  0.94831668  0.          0.93816334]\n",
      " [ 0.31437965  0.95768849  0.93960175  0.          0.92483658]\n",
      " [ 0.28933532  0.95097308  0.93067178  0.          0.91119064]\n",
      " [ 0.2695596   0.94404702  0.92192639  0.          0.89774892]\n",
      " [ 0.25481692  0.9372464   0.91377332  0.          0.88491293]\n",
      " [ 0.24475381  0.93091212  0.90658542  0.          0.87290278]\n",
      " [ 0.23898365  0.92534067  0.90066655  0.          0.86173589]\n",
      " [ 0.23714295  0.92072751  0.89622741  0.          0.85123955]\n",
      " [ 0.23891557  0.91710197  0.89336679  0.          0.84108473]\n",
      " [ 0.24402639  0.91425319  0.89205078  0.          0.8308264 ]\n",
      " [ 0.25220793  0.91164895  0.89208307  0.          0.81993898]\n",
      " [ 0.26314451  0.90835529  0.89306274  0.          0.80784136]\n",
      " [ 0.2764001   0.9029736   0.89433157  0.          0.79391192]\n",
      " [ 0.29133953  0.89362345  0.89492123  0.          0.77749889]\n",
      " [ 0.30705904  0.87800879  0.89351972  0.          0.75793438]\n",
      " [ 0.3223497   0.85360457  0.88848613  0.          0.73456109]\n",
      " [ 0.33572161  0.81798025  0.87794584  0.          0.70677991]\n",
      " [ 0.34551259  0.76923162  0.85998898  0.          0.67412232]\n",
      " [ 0.35008656  0.70643389  0.83296651  0.          0.63634365]\n",
      " [ 0.34809499  0.62998533  0.79583491  0.          0.59352231]\n",
      " [ 0.33873985  0.54171475  0.74845861  0.          0.54613838]\n",
      " [ 0.32195907  0.44469197  0.69176589  0.          0.49510051]\n",
      " [ 0.2984688   0.342782    0.62768758  0.          0.44169715]\n",
      " [ 0.26964294  0.24007071  0.55888038  0.          0.38746971]\n",
      " [ 0.23726663  0.14031898  0.48831365  0.          0.33403173]\n",
      " [ 0.20323951  0.04656672  0.41883898  0.          0.28287795]\n",
      " [ 0.16930914 -0.0390617   0.35285053  0.          0.23522839]\n",
      " [ 0.1368891  -0.11536649  0.292094    0.          0.19193765]\n",
      " [ 0.10697804 -0.18195116  0.23762554  0.          0.15347553]\n",
      " [ 0.0801651  -0.23903609  0.18988286  0.          0.11996543]\n",
      " [ 0.05669098 -0.28726019  0.14881757  0.          0.09125725]\n",
      " [ 0.0365337  -0.32750467  0.11404389  0.          0.06701153]\n",
      " [ 0.01949533 -0.36075487  0.08497419  0.          0.04677794]\n",
      " [ 0.00527636 -0.38800238  0.06092674  0.          0.030059  ]\n",
      " [-0.00646767 -0.41018295  0.04120282  0.          0.01635615]\n",
      " [-0.01608708 -0.42814203  0.02513625  0.          0.0051996 ]\n",
      " [-0.02391369 -0.44262027  0.01212129  0.         -0.00383505]\n",
      " [-0.03024758 -0.45425184  0.00162519  0.         -0.01111964]\n",
      " [-0.03535154 -0.46357048 -0.0068094   0.         -0.01697268]\n",
      " [-0.03945035 -0.47101951 -0.0135681   0.         -0.02166231]\n",
      " [-0.042733   -0.47696348 -0.01897159  0.         -0.02541139]\n",
      " [-0.04535631 -0.48169978 -0.02328381  0.         -0.02840318]\n",
      " [-0.04744909 -0.48546954 -0.02672018  0.         -0.03078724]\n",
      " [-0.04911635 -0.48846731 -0.02945547  0.         -0.03268488]\n",
      " [-0.05044316 -0.49084949 -0.03163072  0.         -0.03419396]\n",
      " [-0.05149813 -0.49274143 -0.03335936  0.         -0.03539319]\n",
      " [-0.05233638 -0.49424333 -0.03473229  0.         -0.03634564]\n",
      " [-0.05300206 -0.49543519 -0.03582221  0.         -0.03710176]\n",
      " [-0.05353047 -0.49638074 -0.03668715  0.         -0.03770179]\n",
      " [-0.05394978 -0.49713071 -0.03737335  0.         -0.03817783]\n",
      " [-0.05428242 -0.49772545 -0.03791763  0.         -0.03855541]\n",
      " [-0.05454625 -0.49819703 -0.03834925  0.         -0.03885484]\n",
      " [-0.05475547 -0.49857091 -0.0386915   0.         -0.03909226]\n",
      " [-0.05492136 -0.4988673  -0.03896283  0.         -0.0392805 ]\n",
      " [-0.05505287 -0.49910225 -0.03917794  0.         -0.03942972]\n",
      " [-0.05515713 -0.49928848 -0.03934845  0.         -0.03954801]\n",
      " [-0.05523977 -0.49943609 -0.03948361  0.         -0.03964177]\n",
      " [-0.05530528 -0.49955309 -0.03959074  0.         -0.03971609]\n",
      " [-0.0553572  -0.49964581 -0.03967565  0.         -0.03977499]\n",
      " [-0.05539836 -0.4997193  -0.03974295  0.         -0.03982168]\n",
      " [-0.05543097 -0.49977754 -0.03979628  0.         -0.03985868]\n",
      " [-0.05545682 -0.4998237  -0.03983855  0.         -0.039888  ]\n",
      " [-0.05547731 -0.49986029 -0.03987205  0.         -0.03991124]\n",
      " [-0.05549354 -0.49988928 -0.0398986   0.         -0.03992966]\n",
      " [-0.05550641 -0.49991225 -0.03991964  0.         -0.03994425]\n",
      " [-0.05551661 -0.49993046 -0.03993632  0.         -0.03995582]\n",
      " [-0.05552469 -0.49994489 -0.03994953  0.         -0.03996499]\n",
      " [-0.0555311  -0.49995633 -0.03996     0.         -0.03997225]\n",
      " [-0.05553617 -0.49996539 -0.0399683   0.         -0.03997801]\n",
      " [-0.05554019 -0.49997257 -0.03997488  0.         -0.03998257]\n",
      " [-0.05554338 -0.49997826 -0.03998009  0.         -0.03998619]\n",
      " [-0.05554591 -0.49998277 -0.03998422  0.         -0.03998906]\n",
      " [-0.05554791 -0.49998635 -0.0399875   0.         -0.03999133]\n",
      " [-0.0555495  -0.49998918 -0.03999009  0.         -0.03999313]\n",
      " [-0.05555075 -0.49999143 -0.03999215  0.         -0.03999455]\n",
      " [-0.05555175 -0.49999321 -0.03999378  0.         -0.03999568]\n",
      " [-0.05555254 -0.49999462 -0.03999507  0.         -0.03999658]\n",
      " [-0.05555317 -0.49999573 -0.03999609  0.         -0.03999729]\n",
      " [-0.05555366 -0.49999662 -0.0399969   0.         -0.03999785]\n",
      " [-0.05555405 -0.49999732 -0.03999755  0.         -0.0399983 ]\n",
      " [-0.05555437 -0.49999788 -0.03999806  0.         -0.03999865]\n",
      " [-0.05555461 -0.49999832 -0.03999846  0.         -0.03999893]\n",
      " [-0.05555481 -0.49999867 -0.03999878  0.         -0.03999915]\n",
      " [-0.05555496 -0.49999894 -0.03999903  0.         -0.03999933]\n",
      " [-0.05555509 -0.49999916 -0.03999923  0.         -0.03999947]\n",
      " [-0.05555518 -0.49999934 -0.03999939  0.         -0.03999958]]\n"
     ]
    }
   ],
   "source": [
    "print (train_scores)                       #for each value of lambda we will be getting 3 values of r_square\n",
    "print(test_scores)"
   ]
  },
  {
   "cell_type": "code",
   "execution_count": 66,
   "id": "f94d8ce3-fb6b-4ed4-9d11-bd445a42bdac",
   "metadata": {},
   "outputs": [],
   "source": [
    "train_mean=np.mean(train_scores,axis=1)"
   ]
  },
  {
   "cell_type": "code",
   "execution_count": 67,
   "id": "dd6340b5-c4ab-453b-a893-a461555fd6bd",
   "metadata": {},
   "outputs": [],
   "source": [
    "test_mean=np.mean(train_scores,axis=1)"
   ]
  },
  {
   "cell_type": "code",
   "execution_count": 68,
   "id": "145e5101-9ddc-43f6-a7c0-cdd227f31ed4",
   "metadata": {},
   "outputs": [
    {
     "data": {
      "text/plain": [
       "array([9.98116187e-01, 9.97980048e-01, 9.97792234e-01, 9.97532577e-01,\n",
       "       9.97173167e-01, 9.96676431e-01, 9.95993567e-01, 9.95063854e-01,\n",
       "       9.93815581e-01, 9.92169463e-01, 9.90045339e-01, 9.87372329e-01,\n",
       "       9.84101452e-01, 9.80218024e-01, 9.75749947e-01, 9.70768209e-01,\n",
       "       9.65378007e-01, 9.59702146e-01, 9.53860937e-01, 9.47953218e-01,\n",
       "       9.42041081e-01, 9.36137766e-01, 9.30195810e-01, 9.24092037e-01,\n",
       "       9.17607384e-01, 9.10402120e-01, 9.01990000e-01, 8.91718112e-01,\n",
       "       8.78762592e-01, 8.62153262e-01, 8.40840672e-01, 8.13813896e-01,\n",
       "       7.80264642e-01, 7.39773638e-01, 6.92475597e-01, 6.39150033e-01,\n",
       "       5.81196479e-01, 5.20484853e-01, 4.59112593e-01, 3.99130571e-01,\n",
       "       3.42305114e-01, 2.89963563e-01, 2.42938296e-01, 2.01595093e-01,\n",
       "       1.65915839e-01, 1.35603780e-01, 1.10186761e-01, 8.91040624e-02,\n",
       "       7.17714263e-02, 5.76247610e-02, 4.61461118e-02, 3.68763769e-02,\n",
       "       2.94189807e-02, 2.34379105e-02, 1.86526217e-02, 1.48315146e-02,\n",
       "       1.17850641e-02, 9.35923233e-03, 7.42949144e-03, 5.89559175e-03,\n",
       "       4.67709451e-03, 3.70962458e-03, 2.94176812e-03, 2.33252950e-03,\n",
       "       1.84926198e-03, 1.46599382e-03, 1.16208000e-03, 9.21120135e-04,\n",
       "       7.30092332e-04, 5.78661309e-04, 4.58626694e-04, 3.63483650e-04,\n",
       "       2.88073318e-04, 2.28304950e-04, 1.80935162e-04, 1.43392665e-04,\n",
       "       1.13639151e-04, 9.00589158e-05, 7.13713011e-05, 5.65612580e-05,\n",
       "       4.48242835e-05, 3.55227631e-05, 2.81513612e-05, 2.23095847e-05,\n",
       "       1.76800350e-05, 1.40111697e-05, 1.11036402e-05, 8.79946247e-06,\n",
       "       6.97343450e-06, 5.52633448e-06, 4.37952990e-06, 3.47070527e-06,\n",
       "       2.75047628e-06, 2.17970649e-06, 1.72738079e-06, 1.36892016e-06,\n",
       "       1.08484608e-06, 8.59722132e-07, 6.81315192e-07, 5.39930704e-07])"
      ]
     },
     "execution_count": 68,
     "metadata": {},
     "output_type": "execute_result"
    }
   ],
   "source": [
    "train_mean   #we will be printing the 100 R square values for 100 lambda values \n"
   ]
  },
  {
   "cell_type": "code",
   "execution_count": 69,
   "id": "91429a0f-4975-40f3-9401-5676130fc15c",
   "metadata": {},
   "outputs": [
    {
     "data": {
      "text/plain": [
       "array([9.98116187e-01, 9.97980048e-01, 9.97792234e-01, 9.97532577e-01,\n",
       "       9.97173167e-01, 9.96676431e-01, 9.95993567e-01, 9.95063854e-01,\n",
       "       9.93815581e-01, 9.92169463e-01, 9.90045339e-01, 9.87372329e-01,\n",
       "       9.84101452e-01, 9.80218024e-01, 9.75749947e-01, 9.70768209e-01,\n",
       "       9.65378007e-01, 9.59702146e-01, 9.53860937e-01, 9.47953218e-01,\n",
       "       9.42041081e-01, 9.36137766e-01, 9.30195810e-01, 9.24092037e-01,\n",
       "       9.17607384e-01, 9.10402120e-01, 9.01990000e-01, 8.91718112e-01,\n",
       "       8.78762592e-01, 8.62153262e-01, 8.40840672e-01, 8.13813896e-01,\n",
       "       7.80264642e-01, 7.39773638e-01, 6.92475597e-01, 6.39150033e-01,\n",
       "       5.81196479e-01, 5.20484853e-01, 4.59112593e-01, 3.99130571e-01,\n",
       "       3.42305114e-01, 2.89963563e-01, 2.42938296e-01, 2.01595093e-01,\n",
       "       1.65915839e-01, 1.35603780e-01, 1.10186761e-01, 8.91040624e-02,\n",
       "       7.17714263e-02, 5.76247610e-02, 4.61461118e-02, 3.68763769e-02,\n",
       "       2.94189807e-02, 2.34379105e-02, 1.86526217e-02, 1.48315146e-02,\n",
       "       1.17850641e-02, 9.35923233e-03, 7.42949144e-03, 5.89559175e-03,\n",
       "       4.67709451e-03, 3.70962458e-03, 2.94176812e-03, 2.33252950e-03,\n",
       "       1.84926198e-03, 1.46599382e-03, 1.16208000e-03, 9.21120135e-04,\n",
       "       7.30092332e-04, 5.78661309e-04, 4.58626694e-04, 3.63483650e-04,\n",
       "       2.88073318e-04, 2.28304950e-04, 1.80935162e-04, 1.43392665e-04,\n",
       "       1.13639151e-04, 9.00589158e-05, 7.13713011e-05, 5.65612580e-05,\n",
       "       4.48242835e-05, 3.55227631e-05, 2.81513612e-05, 2.23095847e-05,\n",
       "       1.76800350e-05, 1.40111697e-05, 1.11036402e-05, 8.79946247e-06,\n",
       "       6.97343450e-06, 5.52633448e-06, 4.37952990e-06, 3.47070527e-06,\n",
       "       2.75047628e-06, 2.17970649e-06, 1.72738079e-06, 1.36892016e-06,\n",
       "       1.08484608e-06, 8.59722132e-07, 6.81315192e-07, 5.39930704e-07])"
      ]
     },
     "execution_count": 69,
     "metadata": {},
     "output_type": "execute_result"
    }
   ],
   "source": [
    "test_mean "
   ]
  },
  {
   "cell_type": "code",
   "execution_count": 70,
   "id": "70d4a54a-9bbb-4564-9572-0f84d883cdc4",
   "metadata": {},
   "outputs": [
    {
     "data": {
      "text/plain": [
       "0.9981161872789024"
      ]
     },
     "execution_count": 70,
     "metadata": {},
     "output_type": "execute_result"
    }
   ],
   "source": [
    "max(test_mean)"
   ]
  },
  {
   "cell_type": "code",
   "execution_count": 71,
   "id": "27a429b2-0ea2-45a7-a953-2ab72a9e7b21",
   "metadata": {},
   "outputs": [
    {
     "name": "stderr",
     "output_type": "stream",
     "text": [
      "C:\\Users\\SOUHA\\anaconda3\\Lib\\site-packages\\seaborn\\_oldcore.py:1119: FutureWarning: use_inf_as_na option is deprecated and will be removed in a future version. Convert inf values to NaN before operating instead.\n",
      "  with pd.option_context('mode.use_inf_as_na', True):\n",
      "C:\\Users\\SOUHA\\anaconda3\\Lib\\site-packages\\seaborn\\_oldcore.py:1119: FutureWarning: use_inf_as_na option is deprecated and will be removed in a future version. Convert inf values to NaN before operating instead.\n",
      "  with pd.option_context('mode.use_inf_as_na', True):\n"
     ]
    },
    {
     "data": {
      "text/plain": [
       "<seaborn.axisgrid.JointGrid at 0x1da84820b50>"
      ]
     },
     "execution_count": 71,
     "metadata": {},
     "output_type": "execute_result"
    },
    {
     "data": {
      "image/png": "[encoded data removed]",
      "text/plain": [
       "<Figure size 600x600 with 3 Axes>"
      ]
     },
     "metadata": {},
     "output_type": "display_data"
    }
   ],
   "source": [
    "sns.jointplot(x=np.log(param_range),y=test_mean)    #this graph reperesents the r square values wich increase if lambda is increasing until a specefic point where r square starts to decrease until it is equal to zero "
   ]
  },
  {
   "cell_type": "code",
   "execution_count": 72,
   "id": "1efd9d24-4098-44ba-9969-2bb83b43f14b",
   "metadata": {},
   "outputs": [
    {
     "data": {
      "text/plain": [
       "(array([], dtype=int64),)"
      ]
     },
     "execution_count": 72,
     "metadata": {},
     "output_type": "execute_result"
    }
   ],
   "source": [
    "#chercher la valeur maximum de r square:\n",
    "np.where(test_mean == 0.9734929641394687)"
   ]
  },
  {
   "cell_type": "code",
   "execution_count": 73,
   "id": "1940f158-4ba0-4e7a-9ac2-def2a58c8686",
   "metadata": {},
   "outputs": [
    {
     "data": {
      "text/plain": [
       "0.01"
      ]
     },
     "execution_count": 73,
     "metadata": {},
     "output_type": "execute_result"
    }
   ],
   "source": [
    "param_range[0] #this will give us the lambda value for which r square is maximum"
   ]
  },
  {
   "cell_type": "code",
   "execution_count": 74,
   "id": "be25d0ab-a13d-46a2-a01b-2ecc792d6378",
   "metadata": {},
   "outputs": [],
   "source": [
    "Lm_r_best=Ridge(alpha=param_range[3])"
   ]
  },
  {
   "cell_type": "code",
   "execution_count": 75,
   "id": "ada472d4-8fb3-4f88-8da3-041ab222de50",
   "metadata": {},
   "outputs": [
    {
     "data": {
      "text/html": [
       "<style>#sk-container-id-4 {color: black;background-color: white;}#sk-container-id-4 pre{padding: 0;}#sk-container-id-4 div.sk-toggleable {background-color: white;}#sk-container-id-4 label.sk-toggleable__label {cursor: pointer;display: block;width: 100%;margin-bottom: 0;padding: 0.3em;box-sizing: border-box;text-align: center;}#sk-container-id-4 label.sk-toggleable__label-arrow:before {content: \"▸\";float: left;margin-right: 0.25em;color: #696969;}#sk-container-id-4 label.sk-toggleable__label-arrow:hover:before {color: black;}#sk-container-id-4 div.sk-estimator:hover label.sk-toggleable__label-arrow:before {color: black;}#sk-container-id-4 div.sk-toggleable__content {max-height: 0;max-width: 0;overflow: hidden;text-align: left;background-color: #f0f8ff;}#sk-container-id-4 div.sk-toggleable__content pre {margin: 0.2em;color: black;border-radius: 0.25em;background-color: #f0f8ff;}#sk-container-id-4 input.sk-toggleable__control:checked~div.sk-toggleable__content {max-height: 200px;max-width: 100%;overflow: auto;}#sk-container-id-4 input.sk-toggleable__control:checked~label.sk-toggleable__label-arrow:before {content: \"▾\";}#sk-container-id-4 div.sk-estimator input.sk-toggleable__control:checked~label.sk-toggleable__label {background-color: #d4ebff;}#sk-container-id-4 div.sk-label input.sk-toggleable__control:checked~label.sk-toggleable__label {background-color: #d4ebff;}#sk-container-id-4 input.sk-hidden--visually {border: 0;clip: rect(1px 1px 1px 1px);clip: rect(1px, 1px, 1px, 1px);height: 1px;margin: -1px;overflow: hidden;padding: 0;position: absolute;width: 1px;}#sk-container-id-4 div.sk-estimator {font-family: monospace;background-color: #f0f8ff;border: 1px dotted black;border-radius: 0.25em;box-sizing: border-box;margin-bottom: 0.5em;}#sk-container-id-4 div.sk-estimator:hover {background-color: #d4ebff;}#sk-container-id-4 div.sk-parallel-item::after {content: \"\";width: 100%;border-bottom: 1px solid gray;flex-grow: 1;}#sk-container-id-4 div.sk-label:hover label.sk-toggleable__label {background-color: #d4ebff;}#sk-container-id-4 div.sk-serial::before {content: \"\";position: absolute;border-left: 1px solid gray;box-sizing: border-box;top: 0;bottom: 0;left: 50%;z-index: 0;}#sk-container-id-4 div.sk-serial {display: flex;flex-direction: column;align-items: center;background-color: white;padding-right: 0.2em;padding-left: 0.2em;position: relative;}#sk-container-id-4 div.sk-item {position: relative;z-index: 1;}#sk-container-id-4 div.sk-parallel {display: flex;align-items: stretch;justify-content: center;background-color: white;position: relative;}#sk-container-id-4 div.sk-item::before, #sk-container-id-4 div.sk-parallel-item::before {content: \"\";position: absolute;border-left: 1px solid gray;box-sizing: border-box;top: 0;bottom: 0;left: 50%;z-index: -1;}#sk-container-id-4 div.sk-parallel-item {display: flex;flex-direction: column;z-index: 1;position: relative;background-color: white;}#sk-container-id-4 div.sk-parallel-item:first-child::after {align-self: flex-end;width: 50%;}#sk-container-id-4 div.sk-parallel-item:last-child::after {align-self: flex-start;width: 50%;}#sk-container-id-4 div.sk-parallel-item:only-child::after {width: 0;}#sk-container-id-4 div.sk-dashed-wrapped {border: 1px dashed gray;margin: 0 0.4em 0.5em 0.4em;box-sizing: border-box;padding-bottom: 0.4em;background-color: white;}#sk-container-id-4 div.sk-label label {font-family: monospace;font-weight: bold;display: inline-block;line-height: 1.2em;}#sk-container-id-4 div.sk-label-container {text-align: center;}#sk-container-id-4 div.sk-container {/* jupyter's `normalize.less` sets `[hidden] { display: none; }` but bootstrap.min.css set `[hidden] { display: none !important; }` so we also need the `!important` here to be able to override the default hidden behavior on the sphinx rendered scikit-learn.org. See: https://github.com/scikit-learn/scikit-learn/issues/21755 */display: inline-block !important;position: relative;}#sk-container-id-4 div.sk-text-repr-fallback {display: none;}</style><div id=\"sk-container-id-4\" class=\"sk-top-container\"><div class=\"sk-text-repr-fallback\"><pre>Ridge(alpha=0.02009233002565047)</pre><b>In a Jupyter environment, please rerun this cell to show the HTML representation or trust the notebook. <br />On GitHub, the HTML representation is unable to render, please try loading this page with nbviewer.org.</b></div><div class=\"sk-container\" hidden><div class=\"sk-item\"><div class=\"sk-estimator sk-toggleable\"><input class=\"sk-toggleable__control sk-hidden--visually\" id=\"sk-estimator-id-4\" type=\"checkbox\" checked><label for=\"sk-estimator-id-4\" class=\"sk-toggleable__label sk-toggleable__label-arrow\">Ridge</label><div class=\"sk-toggleable__content\"><pre>Ridge(alpha=0.02009233002565047)</pre></div></div></div></div></div>"
      ],
      "text/plain": [
       "Ridge(alpha=0.02009233002565047)"
      ]
     },
     "execution_count": 75,
     "metadata": {},
     "output_type": "execute_result"
    }
   ],
   "source": [
    "Lm_r_best.fit(X_train_s,y_train)"
   ]
  },
  {
   "cell_type": "code",
   "execution_count": 76,
   "id": "5ade05f0-39ea-4680-9334-150407149e5b",
   "metadata": {},
   "outputs": [
    {
     "data": {
      "text/plain": [
       "0.0"
      ]
     },
     "execution_count": 76,
     "metadata": {},
     "output_type": "execute_result"
    }
   ],
   "source": [
    "r2_score(y_test,Lm_r_best.predict(X_test_s))  #r square on our test data"
   ]
  },
  {
   "cell_type": "code",
   "execution_count": 77,
   "id": "1fb4be9f-bd03-4e36-a3f2-7bf99f5afaec",
   "metadata": {},
   "outputs": [
    {
     "data": {
      "text/plain": [
       "0.9972334925654724"
      ]
     },
     "execution_count": 77,
     "metadata": {},
     "output_type": "execute_result"
    }
   ],
   "source": [
    "r2_score(y_train,Lm_r_best.predict(X_train_s))   #r square on our train data  ::It indicates a very good fit of your regression model to the test data"
   ]
  },
  {
   "cell_type": "code",
   "execution_count": 78,
   "id": "c11ca0a0-2b89-427c-9868-5c66c79dc606",
   "metadata": {},
   "outputs": [],
   "source": [
    "X = df.drop('Water Quantity (L)', axis=1)  # X représente les caractéristiques utilisées pour la prédiction\n",
    "predictions = Lm3.predict(x_multi)\n",
    "y = df['Water Quantity (L)']  # Valeurs cibles\n",
    "model = LinearRegression()\n",
    "model.fit(X, y)  # Entraîner le modèle avec les caractéristiques et les valeurs cibles\n",
    "\n",
    "# Prédire les valeurs basées sur les caractéristiques disponibles dans le DataFrame\n",
    "predictions = model.predict(X)\n",
    "\n",
    "# Ajouter les valeurs prédites comme une nouvelle colonne dans le DataFrame\n",
    "df['Predicted_Quantity'] = predictions\n"
   ]
  },
  {
   "cell_type": "code",
   "execution_count": 79,
   "id": "cbb44168-c6b3-48b0-8517-33d15eed8361",
   "metadata": {},
   "outputs": [
    {
     "name": "stdout",
     "output_type": "stream",
     "text": [
      "   Time (hours)  Humidity Level 1 (%)  Humidity Level 2 (%)  \\\n",
      "0           0.0                  80.0                  30.0   \n",
      "1          12.0                  70.0                  40.0   \n",
      "2          24.0                  60.0                  50.0   \n",
      "3          36.0                  50.0                  55.0   \n",
      "4          48.0                  40.0                  60.0   \n",
      "\n",
      "   Humidity Level 3 (%)  Temperature Level 1 (Â°C)  Temperature Level 2 (Â°C)  \\\n",
      "0                  20.0                       25.0                       24.0   \n",
      "1                  30.0                       28.0                       27.0   \n",
      "2                  40.0                       30.0                       29.0   \n",
      "3                  45.0                       27.0                       26.0   \n",
      "4                  50.0                       20.0                       21.0   \n",
      "\n",
      "   Temperature Level 3 (Â°C)  Water Quantity (L)  Predicted_Quantity  \n",
      "0                       23.0                40.0           39.685552  \n",
      "1                       26.0                40.0           40.274019  \n",
      "2                       28.0                40.0           40.241676  \n",
      "3                       25.0                40.0           39.747543  \n",
      "4                       22.0                40.0           40.000000  \n"
     ]
    }
   ],
   "source": [
    "print (df.head())"
   ]
  },
  {
   "cell_type": "code",
   "execution_count": 80,
   "id": "f95d86bc-d4f5-4a9a-ae27-a7a4bad54df5",
   "metadata": {},
   "outputs": [
    {
     "name": "stdout",
     "output_type": "stream",
     "text": [
      "Modèle enregistré avec succès dans linear_regression_model.pkl\n"
     ]
    }
   ],
   "source": [
    "import joblib\n",
    "\n",
    "# Enregistrer le modèle dans un fichier\n",
    "filename = 'linear_regression_model.pkl'\n",
    "joblib.dump(Lm3, filename)\n",
    "print(f\"Modèle enregistré avec succès dans {filename}\")\n"
   ]
  },
  {
   "cell_type": "code",
   "execution_count": 81,
   "id": "9c5e4086-8aa4-4e0e-b48c-b248dfaa3ffc",
   "metadata": {},
   "outputs": [],
   "source": [
    "data= pd.read_csv('D:\\\\souha\\\\testmodelhumidity.csv', encoding='latin1')"
   ]
  },
  {
   "cell_type": "code",
   "execution_count": 82,
   "id": "f5166f99-f48b-477d-8c12-4c398c9bc011",
   "metadata": {},
   "outputs": [],
   "source": [
    "# Suppression des lignes avec des valeurs manquantes\n",
    "data.dropna(inplace=True)"
   ]
  },
  {
   "cell_type": "code",
   "execution_count": 83,
   "id": "b2e14f87-ef7d-44ca-8942-e0de08c47f4b",
   "metadata": {},
   "outputs": [
    {
     "name": "stdout",
     "output_type": "stream",
     "text": [
      "    Time (hours)  Humidity Level 1 (%)  Humidity Level 2 (%)  \\\n",
      "0            0.0                  80.0                  30.0   \n",
      "1           12.0                  70.0                  40.0   \n",
      "2           24.0                  60.0                  50.0   \n",
      "3           36.0                  50.0                  55.0   \n",
      "4           48.0                  55.0                  60.0   \n",
      "5            0.0                  78.0                  40.0   \n",
      "6           12.0                  70.0                  53.0   \n",
      "7           24.0                  63.0                  55.0   \n",
      "8           36.0                  58.0                  60.0   \n",
      "9           48.0                  55.0                  58.0   \n",
      "10          48.0                  40.0                  55.0   \n",
      "12           0.0                  80.0                  30.0   \n",
      "13          24.0                  70.0                  40.0   \n",
      "14          48.0                  60.0                  50.0   \n",
      "15          72.0                  50.0                  55.0   \n",
      "16          96.0                  40.0                  60.0   \n",
      "17           0.0                  78.0                  43.0   \n",
      "18          24.0                  70.0                  50.0   \n",
      "19          48.0                  63.0                  55.0   \n",
      "20          72.0                  58.0                  58.0   \n",
      "21          96.0                  50.0                  60.0   \n",
      "\n",
      "    Humidity Level 3 (%)  Temperature Level 1 (Â°C)  \\\n",
      "0                   20.0                       25.0   \n",
      "1                   30.0                       28.0   \n",
      "2                   40.0                       30.0   \n",
      "3                   45.0                       27.0   \n",
      "4                   58.0                       20.0   \n",
      "5                   40.0                       30.0   \n",
      "6                   48.0                       28.0   \n",
      "7                   53.0                       28.0   \n",
      "8                   50.0                       27.0   \n",
      "9                   55.0                       20.0   \n",
      "10                  55.0                       20.0   \n",
      "12                  20.0                       10.0   \n",
      "13                  30.0                       12.0   \n",
      "14                  40.0                       14.0   \n",
      "15                  45.0                       13.0   \n",
      "16                  50.0                       12.0   \n",
      "17                  43.0                       10.0   \n",
      "18                  48.0                       12.0   \n",
      "19                  48.0                       14.0   \n",
      "20                  50.0                       13.0   \n",
      "21                  58.0                       12.0   \n",
      "\n",
      "    Temperature Level 2 (Â°C)  Temperature Level 3 (Â°C)  \n",
      "0                        24.0                       23.0  \n",
      "1                        27.0                       26.0  \n",
      "2                        29.0                       28.0  \n",
      "3                        26.0                       25.0  \n",
      "4                        21.0                       22.0  \n",
      "5                        27.0                       25.0  \n",
      "6                        25.0                       23.0  \n",
      "7                        26.0                       22.0  \n",
      "8                        26.0                       25.0  \n",
      "9                        21.0                       22.0  \n",
      "10                       21.0                       22.0  \n",
      "12                        9.0                        8.0  \n",
      "13                       11.0                       10.0  \n",
      "14                       13.0                       12.0  \n",
      "15                       12.0                       11.0  \n",
      "16                       11.0                       10.0  \n",
      "17                        9.0                        8.0  \n",
      "18                       11.0                       10.0  \n",
      "19                       13.0                       12.0  \n",
      "20                       12.0                       11.0  \n",
      "21                       11.0                       10.0  \n"
     ]
    }
   ],
   "source": [
    "print(data)"
   ]
  },
  {
   "cell_type": "code",
   "execution_count": 84,
   "id": "508d12f5-1454-419c-aecd-005714a38784",
   "metadata": {},
   "outputs": [
    {
     "name": "stdout",
     "output_type": "stream",
     "text": [
      "Time (hours)                 float64\n",
      "Humidity Level 1 (%)         float64\n",
      "Humidity Level 2 (%)         float64\n",
      "Humidity Level 3 (%)         float64\n",
      "Temperature Level 1 (Â°C)    float64\n",
      "Temperature Level 2 (Â°C)    float64\n",
      "Temperature Level 3 (Â°C)    float64\n",
      "dtype: object\n"
     ]
    }
   ],
   "source": [
    "print(data.dtypes)"
   ]
  },
  {
   "cell_type": "code",
   "execution_count": 85,
   "id": "41e3218b-8cd8-4b38-ae66-2b8575ee3ca4",
   "metadata": {},
   "outputs": [
    {
     "name": "stdout",
     "output_type": "stream",
     "text": [
      "Time (hours)                 float64\n",
      "Humidity Level 1 (%)         float64\n",
      "Humidity Level 2 (%)         float64\n",
      "Humidity Level 3 (%)         float64\n",
      "Temperature Level 1 (Â°C)    float64\n",
      "Temperature Level 2 (Â°C)    float64\n",
      "Temperature Level 3 (Â°C)    float64\n",
      "dtype: object\n"
     ]
    }
   ],
   "source": [
    "print(data.dtypes)"
   ]
  },
  {
   "cell_type": "code",
   "execution_count": 86,
   "id": "ae02348d-5a3b-4cd1-bc6a-e410befbbfca",
   "metadata": {},
   "outputs": [
    {
     "name": "stdout",
     "output_type": "stream",
     "text": [
      "   Time (hours)  Humidity Level 1 (%)  Humidity Level 2 (%)  \\\n",
      "0           0.0                  80.0                  30.0   \n",
      "1          12.0                  70.0                  40.0   \n",
      "2          24.0                  60.0                  50.0   \n",
      "3          36.0                  50.0                  55.0   \n",
      "4          48.0                  55.0                  60.0   \n",
      "\n",
      "   Humidity Level 3 (%)  Temperature Level 1 (Â°C)  Temperature Level 2 (Â°C)  \\\n",
      "0                  20.0                       25.0                       24.0   \n",
      "1                  30.0                       28.0                       27.0   \n",
      "2                  40.0                       30.0                       29.0   \n",
      "3                  45.0                       27.0                       26.0   \n",
      "4                  58.0                       20.0                       21.0   \n",
      "\n",
      "   Temperature Level 3 (Â°C)  Predicted_Quantity  \n",
      "0                       23.0           39.685552  \n",
      "1                       26.0           40.274019  \n",
      "2                       28.0           40.241676  \n",
      "3                       25.0           39.747543  \n",
      "4                       22.0           31.303254  \n"
     ]
    }
   ],
   "source": [
    "# Charger le modèle depuis le fichier\n",
    "loaded_model = joblib.load(filename)\n",
    "\n",
    "# Utiliser le modèle chargé pour faire des prédictions\n",
    "data['Predicted_Quantity'] = loaded_model.predict(data)\n",
    "\n",
    "# Afficher les premières lignes du DataFrame pour vérifier\n",
    "print(data.head())                             # il y "
   ]
  },
  {
   "cell_type": "code",
   "execution_count": 87,
   "id": "cfc6d98f-0d85-429f-b780-5f04e65708aa",
   "metadata": {},
   "outputs": [
    {
     "name": "stdout",
     "output_type": "stream",
     "text": [
      "    Time (hours)  Humidity Level 1 (%)  Humidity Level 2 (%)  \\\n",
      "0            0.0                  80.0                  30.0   \n",
      "1           12.0                  70.0                  40.0   \n",
      "2           24.0                  60.0                  50.0   \n",
      "3           36.0                  50.0                  55.0   \n",
      "4           48.0                  55.0                  60.0   \n",
      "5            0.0                  78.0                  40.0   \n",
      "6           12.0                  70.0                  53.0   \n",
      "7           24.0                  63.0                  55.0   \n",
      "8           36.0                  58.0                  60.0   \n",
      "9           48.0                  55.0                  58.0   \n",
      "10          48.0                  40.0                  55.0   \n",
      "12           0.0                  80.0                  30.0   \n",
      "13          24.0                  70.0                  40.0   \n",
      "14          48.0                  60.0                  50.0   \n",
      "15          72.0                  50.0                  55.0   \n",
      "16          96.0                  40.0                  60.0   \n",
      "17           0.0                  78.0                  43.0   \n",
      "18          24.0                  70.0                  50.0   \n",
      "19          48.0                  63.0                  55.0   \n",
      "20          72.0                  58.0                  58.0   \n",
      "21          96.0                  50.0                  60.0   \n",
      "\n",
      "    Humidity Level 3 (%)  Temperature Level 1 (Â°C)  \\\n",
      "0                   20.0                       25.0   \n",
      "1                   30.0                       28.0   \n",
      "2                   40.0                       30.0   \n",
      "3                   45.0                       27.0   \n",
      "4                   58.0                       20.0   \n",
      "5                   40.0                       30.0   \n",
      "6                   48.0                       28.0   \n",
      "7                   53.0                       28.0   \n",
      "8                   50.0                       27.0   \n",
      "9                   55.0                       20.0   \n",
      "10                  55.0                       20.0   \n",
      "12                  20.0                       10.0   \n",
      "13                  30.0                       12.0   \n",
      "14                  40.0                       14.0   \n",
      "15                  45.0                       13.0   \n",
      "16                  50.0                       12.0   \n",
      "17                  43.0                       10.0   \n",
      "18                  48.0                       12.0   \n",
      "19                  48.0                       14.0   \n",
      "20                  50.0                       13.0   \n",
      "21                  58.0                       12.0   \n",
      "\n",
      "    Temperature Level 2 (Â°C)  Temperature Level 3 (Â°C)  Predicted_Quantity  \n",
      "0                        24.0                       23.0           39.685552  \n",
      "1                        27.0                       26.0           40.274019  \n",
      "2                        29.0                       28.0           40.241676  \n",
      "3                        26.0                       25.0           39.747543  \n",
      "4                        21.0                       22.0           31.303254  \n",
      "5                        27.0                       25.0           33.214690  \n",
      "6                        25.0                       23.0           29.557152  \n",
      "7                        26.0                       22.0           29.904492  \n",
      "8                        26.0                       25.0           33.594379  \n",
      "9                        21.0                       22.0           32.624387  \n",
      "10                       21.0                       22.0           40.000000  \n",
      "12                        9.0                        8.0           30.373385  \n",
      "13                       11.0                       10.0           29.962985  \n",
      "14                       13.0                       12.0           29.552585  \n",
      "15                       12.0                       11.0           29.922017  \n",
      "16                       11.0                       10.0           30.291449  \n",
      "17                        9.0                        8.0           21.738954  \n",
      "18                       11.0                       10.0           22.564642  \n",
      "19                       13.0                       12.0           24.801053  \n",
      "20                       12.0                       11.0           24.297307  \n",
      "21                       11.0                       10.0           23.789014  \n"
     ]
    }
   ],
   "source": [
    "print(data)"
   ]
  },
  {
   "cell_type": "code",
   "execution_count": 88,
   "id": "fd2429e8-04c0-43f6-86db-10bfa1d2c823",
   "metadata": {},
   "outputs": [
    {
     "name": "stdout",
     "output_type": "stream",
     "text": [
      "    Time (hours)  Predicted_Quantity\n",
      "0            0.0           39.685552\n",
      "4           48.0           40.000000\n",
      "6            0.0           39.685552\n",
      "10          48.0           40.000000\n",
      "12           0.0           30.373385\n",
      "14          48.0           29.552585\n",
      "16          96.0           30.291449\n"
     ]
    }
   ],
   "source": [
    "# Filtrer les données pour n'afficher que les prédictions toutes les 48 heures\n",
    "df_filtered = df[df['Time (hours)'] % 48 == 0]\n",
    "\n",
    "# Afficher les résultats filtrés\n",
    "print(df_filtered[['Time (hours)', 'Predicted_Quantity']])"
   ]
  },
  {
   "cell_type": "code",
   "execution_count": null,
   "id": "b7a2af33-f0dc-47f5-92e8-8603bec2b03d",
   "metadata": {},
   "outputs": [],
   "source": [
    "# Filtrer les données pour n'afficher que les prédictions toutes les 48 heures\n",
    "df_filtered = df[df['Time (hours)'] % 48 == 0]\n",
    "\n",
    "# Afficher les résultats filtrés\n",
    "print(df_filtered[['Time (hours)', 'Predicted_Quantity']])"
   ]
  }
 ],
 "metadata": {
  "kernelspec": {
   "display_name": "Python 3 (ipykernel)",
   "language": "python",
   "name": "python3"
  },
  "language_info": {
   "codemirror_mode": {
    "name": "ipython",
    "version": 3
   },
   "file_extension": ".py",
   "mimetype": "text/x-python",
   "name": "python",
   "nbconvert_exporter": "python",
   "pygments_lexer": "ipython3",
   "version": "3.11.7"
  }
 },
 "nbformat": 4,
 "nbformat_minor": 5
}
